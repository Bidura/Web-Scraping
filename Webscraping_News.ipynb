{
  "nbformat": 4,
  "nbformat_minor": 0,
  "metadata": {
    "colab": {
      "provenance": []
    },
    "kernelspec": {
      "name": "python3",
      "display_name": "Python 3"
    },
    "language_info": {
      "name": "python"
    }
  },
  "cells": [
    {
      "cell_type": "code",
      "execution_count": 87,
      "metadata": {
        "id": "A5B60d3YNYSL"
      },
      "outputs": [],
      "source": [
        "#Web sracping - using bots to extract underlying HTML content from websites"
      ]
    },
    {
      "cell_type": "code",
      "source": [
        "from bs4 import BeautifulSoup as bs\n",
        "import requests\n",
        "import nltk\n",
        "from nltk.sentiment.vader import SentimentIntensityAnalyzer\n",
        "nltk.download('vader_lexicon')\n",
        "vader = SentimentIntensityAnalyzer()"
      ],
      "metadata": {
        "colab": {
          "base_uri": "https://localhost:8080/"
        },
        "id": "HCsvbYwcWzYf",
        "outputId": "60790249-eb44-4cbd-a9ba-1057cb6e4135"
      },
      "execution_count": 88,
      "outputs": [
        {
          "output_type": "stream",
          "name": "stderr",
          "text": [
            "[nltk_data] Downloading package vader_lexicon to /root/nltk_data...\n",
            "[nltk_data]   Package vader_lexicon is already up-to-date!\n"
          ]
        }
      ]
    },
    {
      "cell_type": "code",
      "source": [
        "def extract(response):\n",
        "  data = bs(response.text,'html.parser')\n",
        "  heading_list = data.find_all('h2',class_='newsHdng')\n",
        "  para_list = data.find_all('p', class_='newsCont')\n",
        "  date = data.find_all('span',class_='posted-by')\n",
        "  posc =0\n",
        "  negc = 0\n",
        "\n",
        "  for i in range(0,len(para_list)):\n",
        "    print(\"NEWS HEADER | \" + heading_list[i].text)\n",
        "    print(\"NEWS CONTENT | \" + para_list[i].text)\n",
        "    print(\"NEWS SOURCE | \" + date[i].text.split(\"|\")[0] )\n",
        "    print(\"NEWS DATE PLACE | \" + date[i].text.split(\"|\")[1])\n",
        "    pos = vader.polarity_scores( para_list[i].text)['pos']\n",
        "    neg = vader.polarity_scores( para_list[i].text)['neg']\n",
        "    if pos > neg:\n",
        "      print(\"POSITIVE NEWS\")\n",
        "      posc += 1\n",
        "    elif pos < neg:\n",
        "      print(\"NEGATIVE NEWS\")\n",
        "      negc += 1\n",
        "    else:\n",
        "      print(\"NEUTRAL NEWS\")\n",
        "\n",
        "    print(\"---------------\")\n",
        "\n",
        "    return (posc,negc)"
      ],
      "metadata": {
        "id": "UQ5MYqQ59jsf"
      },
      "execution_count": 94,
      "outputs": []
    },
    {
      "cell_type": "code",
      "source": [
        "i=1\n",
        "C1=0\n",
        "C2=0\n",
        "while True:\n",
        "  url = 'https://www.ndtv.com/india/page-'+ str(i)\n",
        "  response = requests.get(url)\n",
        "  status_code = response.status_code\n",
        "  if status_code == 200:\n",
        "    try:\n",
        "     (posc, negc) = extract(response)\n",
        "     C1 += posc\n",
        "     C2 += negc\n",
        "    except:\n",
        "      pass\n",
        "\n",
        "  else:\n",
        "    break\n",
        "  i+=1\n",
        "  print(\"Ratio of positive news vs negative news = \",C1/C2)\n",
        "  choice = int(input(\"Do you want to end reading news ? 1/0\"))\n",
        "  if choice == 1:\n",
        "    break\n",
        "\n"
      ],
      "metadata": {
        "colab": {
          "base_uri": "https://localhost:8080/"
        },
        "id": "kPLC1Ig_0TLp",
        "outputId": "4a1d3ad3-abad-46b3-a37f-4eb79be1c9cf"
      },
      "execution_count": 95,
      "outputs": [
        {
          "name": "stdout",
          "output_type": "stream",
          "text": [
            "NEWS HEADER | Delhi Student Kills Self In Bhubaneswar, Father Says She Was Sexually Abused\n",
            "NEWS CONTENT | Three weeks after his daughter, a student of the National Institute of Fashion Technology died by suicide in Bhubaneswar, a Delhi man is still searching for answers.\n",
            "NEWS SOURCE | \n",
            "\t\t\t\t\t\t\t\t\t\t\t\t\t\t\tWritten by Kartikeya Bhattacharyya  \n",
            "NEWS DATE PLACE |  Sunday May 12, 2024, New Delhi                                                        \n",
            "                                                        \n",
            "NEGATIVE NEWS\n",
            "---------------\n",
            "Ratio of positive news vs negative news =  0.0\n",
            "Do you want to end reading news ? 1/00\n",
            "NEWS HEADER | Was BJP Leader Assaulted In Haryana? A Fact Check\n",
            "NEWS CONTENT | A video of a fight between a group of people is being shared on social media with a claim that a Bharatiya Janata Party (BJP) leader was beaten up by the public in Haryana's Sirsa.\n",
            "NEWS SOURCE | Logically Facts   \n",
            "NEWS DATE PLACE |  Saturday May 11, 2024                                                        \n",
            "                                                        \n",
            "NEGATIVE NEWS\n",
            "---------------\n",
            "Ratio of positive news vs negative news =  0.0\n",
            "Do you want to end reading news ? 1/00\n",
            "NEWS HEADER | On Arvind Kejriwal's \"Amit Shah To Be PM\" Claim, A Reply By Home Minister\n",
            "NEWS CONTENT | Home Minister Amit Shah today returned fire at Delhi Chief Minister Arvind Kejriwal over the Aam Aadmi Party (AAP) chief's swipe at Prime Minister Narendra Modi is setting the ground for Mr Shah to take over as Prime Minister in future.\n",
            "NEWS SOURCE | \n",
            "\t\t\t\t\t\t\t\t\t\t\t\t\t\t\tEdited by Debanish Achom  \n",
            "NEWS DATE PLACE |  Saturday May 11, 2024, New Delhi                                                        \n",
            "                                                        \n",
            "POSITIVE NEWS\n",
            "---------------\n",
            "Ratio of positive news vs negative news =  0.5\n",
            "Do you want to end reading news ? 1/00\n",
            "NEWS HEADER | Congress Won't Win Even 50 Seats, Will Not Get Opposition Party Status: PM Modi\n",
            "NEWS CONTENT | Prime Minister Narendra Modi on Saturday claimed that the Congress will not win even 50 seats in the Lok Sabha elections and will not be able to get opposition party status after the polls.\n",
            "NEWS SOURCE | Press Trust of India   \n",
            "NEWS DATE PLACE |  Saturday May 11, 2024, Phulbani/Bolangir (Odisha)                                                        \n",
            "                                                        \n",
            "NEGATIVE NEWS\n",
            "---------------\n",
            "Ratio of positive news vs negative news =  0.3333333333333333\n",
            "Do you want to end reading news ? 1/00\n",
            "NEWS HEADER | ISRO Successfully Tests 3D-Printed Rocket Engine - A Major Breakthrough\n",
            "NEWS CONTENT | ISRO has successfully conducted a long-duration test of its PS4 engine, re-designed for production using cutting-edge additive manufacturing (AM) techniques -- also known in common parlance as 3D printing -- and crafted in Indian industry.\n",
            "NEWS SOURCE | Press Trust of India   \n",
            "NEWS DATE PLACE |  Saturday May 11, 2024, Bengaluru                                                        \n",
            "                                                        \n",
            "POSITIVE NEWS\n",
            "---------------\n",
            "Ratio of positive news vs negative news =  0.6666666666666666\n",
            "Do you want to end reading news ? 1/00\n",
            "NEWS HEADER | Arrest Warrent Issued Against Ex Congress Indore Nominee In 17-Year-Old Case\n",
            "NEWS CONTENT | A sessions court here on Friday issued an arrest warrant against local businessman Akshay Bam and his father in a 17-year-old attempt to murder case.\n",
            "NEWS SOURCE | Press Trust of India   \n",
            "NEWS DATE PLACE |  Friday May 10, 2024, Indore                                                        \n",
            "                                                        \n",
            "NEGATIVE NEWS\n",
            "---------------\n",
            "Ratio of positive news vs negative news =  0.5\n",
            "Do you want to end reading news ? 1/00\n",
            "NEWS HEADER | Dismiss Government, Hold Fresh Polls: Congress Memo To Haryana Governor\n",
            "NEWS CONTENT | The Congress submitted a memorandum addressed to Haryana governor here on Friday with a demand to dismiss the \"minority\" BJP government in the state and order fresh elections under the President's rule.\n",
            "NEWS SOURCE | Press Trust of India   \n",
            "NEWS DATE PLACE |  Friday May 10, 2024, Chandigarh                                                        \n",
            "                                                        \n",
            "POSITIVE NEWS\n",
            "---------------\n",
            "Ratio of positive news vs negative news =  0.75\n",
            "Do you want to end reading news ? 1/00\n",
            "NEWS HEADER | Health Department Urges Vigilance After Viral Hepatitis Deaths In Kerala\n",
            "NEWS CONTENT | A 41-year-old man died in Kerala's Malappuram district today due to viral hepatitis, marking the sixth such confirmed case in the district in the last three months. This incident has prompted the health department to urge people to be vigilant.\n",
            "NEWS SOURCE | Press Trust of India   \n",
            "NEWS DATE PLACE |  Friday May 10, 2024, Malappuram, Kerala                                                        \n",
            "                                                        \n",
            "NEGATIVE NEWS\n",
            "---------------\n",
            "Ratio of positive news vs negative news =  0.6\n",
            "Do you want to end reading news ? 1/00\n",
            "NEWS HEADER | \"Sufficient Material Against Accused No.1\": Court Charges BJP's Brij Bhushan\n",
            "NEWS CONTENT | In a big blow to Brij Bhushan Sharan Singh, a Delhi court has ordered the framing of charges against the former Wrestling Federation of India chief in the sexual harassment charges levelled by women wrestlers.\n",
            "NEWS SOURCE | \n",
            "\t\t\t\t\t\t\t\t\t\t\t\t\t\t\tReported by Mukesh Singh Sengar \n",
            "NEWS DATE PLACE |  Friday May 10, 2024, New Delhi                                                        \n",
            "                                                        \n",
            "NEGATIVE NEWS\n",
            "---------------\n",
            "Ratio of positive news vs negative news =  0.5\n",
            "Do you want to end reading news ? 1/01\n"
          ]
        }
      ]
    },
    {
      "cell_type": "code",
      "source": [],
      "metadata": {
        "id": "6vPQSwhs9orB"
      },
      "execution_count": 90,
      "outputs": []
    }
  ]
}