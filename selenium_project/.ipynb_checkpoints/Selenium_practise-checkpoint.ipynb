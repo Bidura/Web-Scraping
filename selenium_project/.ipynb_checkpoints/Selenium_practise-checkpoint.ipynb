{
 "cells": [
  {
   "cell_type": "markdown",
   "id": "7445728c-d9f5-4ad5-abdb-1d190995129b",
   "metadata": {},
   "source": [
    "# Install Anaconda Navigator\n",
    "# Go to Anaconda Prompt\n",
    "# Create a virtual environment\n",
    "# use command => conda create --name envname python=3.\n",
    "# activate env using => conda activate envname\n",
    "# then install required libraries with following commands\n",
    "# python -m pip install selenium\n",
    "# python -m pip install webdriver-manager\n",
    "# python -m pip install jupyter notebook\n",
    "# Launch jupyter notebook by following command\n",
    "# python -m jupyter notebook\n",
    "# write the code given below.\n",
    "# required libraries are in requirements.txt\n",
    "# you can write command => python -m pip install requirements"
   ]
  },
  {
   "cell_type": "raw",
   "id": "36679d98-d52c-431c-9fc2-32c51949e745",
   "metadata": {},
   "source": [
    "pip freeze > requirements.txt"
   ]
  },
  {
   "cell_type": "raw",
   "id": "fab58041-af39-4ed9-9c74-36b48a7125b2",
   "metadata": {},
   "source": [
    "refer to - https://pypi.org/project/webdriver-manager/"
   ]
  },
  {
   "cell_type": "code",
   "execution_count": 81,
   "id": "94d226a8-52b8-44ea-8f19-bad27b9e36a0",
   "metadata": {},
   "outputs": [],
   "source": [
    "from selenium import webdriver\n",
    "from selenium.webdriver.chrome.service import Service as ChromeService\n",
    "from webdriver_manager.chrome import ChromeDriverManager\n",
    "\n",
    "driver = webdriver.Chrome(service=ChromeService(ChromeDriverManager().install())) \n",
    "driver.get('https://www.flipkart.com/') #opens flipkart"
   ]
  },
  {
   "cell_type": "code",
   "execution_count": 82,
   "id": "cb22825f-d9ba-42c8-bf55-cc072e826068",
   "metadata": {},
   "outputs": [],
   "source": [
    "driver.get('https://freeupscmaterials.org/vision-ias-complete-study-materials/')"
   ]
  },
  {
   "cell_type": "code",
   "execution_count": 83,
   "id": "ec0706ef-78c1-481f-bd94-ee4e07f039da",
   "metadata": {},
   "outputs": [],
   "source": [
    "driver.back()"
   ]
  },
  {
   "cell_type": "code",
   "execution_count": 84,
   "id": "79d21595-63a9-40c9-a672-fec1445872b2",
   "metadata": {},
   "outputs": [],
   "source": [
    "driver.forward()"
   ]
  },
  {
   "cell_type": "code",
   "execution_count": 85,
   "id": "ac84c539-7e0e-4901-88dd-e3cb768a8f09",
   "metadata": {},
   "outputs": [
    {
     "data": {
      "text/plain": [
       "'Vision IAS Complete Study Materials - Free Upsc Materials'"
      ]
     },
     "execution_count": 85,
     "metadata": {},
     "output_type": "execute_result"
    }
   ],
   "source": [
    "driver.title"
   ]
  },
  {
   "cell_type": "code",
   "execution_count": 86,
   "id": "6cb7213b-b87a-42ce-ad53-9f79b0b551e2",
   "metadata": {},
   "outputs": [
    {
     "data": {
      "text/plain": [
       "{'height': 840, 'width': 1552, 'x': -8, 'y': -8}"
      ]
     },
     "execution_count": 86,
     "metadata": {},
     "output_type": "execute_result"
    }
   ],
   "source": [
    "driver.get('https://freeupscmaterials.org/vision-ias-complete-study-materials/')\n",
    "driver.implicitly_wait(2)\n",
    "driver.refresh()\n",
    "driver.maximize_window()\n",
    "driver.get_window_rect()"
   ]
  },
  {
   "cell_type": "code",
   "execution_count": null,
   "id": "8c5eecb4-d230-4c9f-b0b1-36a422be66b2",
   "metadata": {},
   "outputs": [],
   "source": [
    "driver.minimize_window()"
   ]
  },
  {
   "cell_type": "code",
   "execution_count": null,
   "id": "9938d071-9a8d-400c-97cd-d8b5d0b50de3",
   "metadata": {},
   "outputs": [],
   "source": [
    "#driver.close() => closes only 1 tab\n",
    "#driver.quit() => closes the entire window"
   ]
  },
  {
   "cell_type": "code",
   "execution_count": 87,
   "id": "3bdac7e7-1eee-43ee-8eb5-4140e6fc9dfe",
   "metadata": {},
   "outputs": [
    {
     "data": {
      "text/plain": [
       "True"
      ]
     },
     "execution_count": 87,
     "metadata": {},
     "output_type": "execute_result"
    }
   ],
   "source": [
    "driver.get_screenshot_as_file('test_screenshot_from_selenium.png')"
   ]
  },
  {
   "cell_type": "code",
   "execution_count": null,
   "id": "6df45ad0-1104-49c4-8c46-5f0b8bc460ba",
   "metadata": {},
   "outputs": [],
   "source": [
    "#driver.get_screenshot_as_png()"
   ]
  },
  {
   "cell_type": "code",
   "execution_count": null,
   "id": "c5a5c43b-5b36-4e85-bef4-dabc95c12b51",
   "metadata": {},
   "outputs": [],
   "source": [
    "#driver.save_screenshot('test.png')"
   ]
  },
  {
   "cell_type": "code",
   "execution_count": 88,
   "id": "4502d166-8c8f-48fe-ae99-fe74520842a6",
   "metadata": {},
   "outputs": [
    {
     "data": {
      "text/plain": [
       "'Vision IAS Complete Study Materials - Free Upsc Materials'"
      ]
     },
     "execution_count": 88,
     "metadata": {},
     "output_type": "execute_result"
    }
   ],
   "source": [
    "driver.title"
   ]
  },
  {
   "cell_type": "code",
   "execution_count": 89,
   "id": "21e25221-b196-4e79-8a0a-8564da952bf6",
   "metadata": {},
   "outputs": [
    {
     "data": {
      "text/plain": [
       "'<html lang=\"en-US\"><head><meta charset=\"UTF-8\"><link data-optimized=\"2\" rel=\"stylesheet\" href=\"https://freeupscmaterials.org/wp-content/litespeed/css/81d90d801e294bd9c0894e93b8d4c946.css?ver=45768\"><meta name=\"robots\" content=\"index, follow, max-image-preview:large, max-snippet:-1, max-video-preview:-1\"><meta name=\"viewport\" content=\"width=device-width, initial-scale=1\"><title>Vision IAS Complete Study Materials - Free Upsc Materials</title><link rel=\"canonical\" href=\"https://freeupscmaterials.org/vision-ias-complete-study-materials/\"><meta property=\"og:locale\" content=\"en_US\"><meta property=\"og:type\" content=\"article\"><meta property=\"og:title\" content=\"Vision IAS Complete Study Materials\"><meta property=\"og:description\" content=\"Vision IAS Classroom Study Materials 2023 Vision IAS Value Added Materials [Old]\"><meta property=\"og:url\" content=\"https://freeupscmaterials.org/vision-ias-complete-study-materials/\"><meta property=\"og:site_name\" content=\"Free Upsc Materials\"><meta property=\"article:publisher\" content=\"https://facebook.com/UpscOnlineOfficial\"><meta property=\"article:modified_time\" content=\"2022-09-16T17:27:41+00:00\"><meta property=\"og:image\" content=\"https://i0.wp.com/freeupscmaterials.org/wp-content/uploads/2018/07/Free-UPSC-Study-Materials.png?fit=1140%2C634&amp;ssl=1\"><meta property=\"og:image:width\" content=\"1140\"><meta property=\"og:image:height\" content=\"634\"><meta property=\"og:image:type\" content=\"image/png\"><meta name=\"twitter:card\" content=\"summary_large_image\"><meta name=\"twitter:site\" content=\"@IasMaterials\"><meta name=\"twitter:label1\" content=\"Est. reading time\"><meta name=\"twitter:data1\" content=\"1 minute\"><script type=\"application/ld+json\" class=\"yoast-schema-graph\">{\"@context\":\"https://schema.org\",\"@graph\":[{\"@type\":\"WebPage\",\"@id\":\"https://freeupscmaterials.org/vision-ias-complete-study-materials/\",\"url\":\"https://freeupscmaterials.org/vision-ias-complete-study-materials/\",\"name\":\"Vision IAS Complete Study Materials - Free Upsc Materials\",\"isPartOf\":{\"@id\":\"https://freeupscmaterials.org/#website\"},\"primaryImageOfPage\":{\"@id\":\"https://freeupscmaterials.org/vision-ias-complete-study-materials/#primaryimage\"},\"image\":{\"@id\":\"https://freeupscmaterials.org/vision-ias-complete-study-materials/#primaryimage\"},\"thumbnailUrl\":\"https://i0.wp.com/freeupscmaterials.org/wp-content/uploads/2018/07/Free-UPSC-Study-Materials.png?fit=1140%2C634&ssl=1\",\"datePublished\":\"2019-12-18T09:59:17+00:00\",\"dateModified\":\"2022-09-16T17:27:41+00:00\",\"breadcrumb\":{\"@id\":\"https://freeupscmaterials.org/vision-ias-complete-study-materials/#breadcrumb\"},\"inLanguage\":\"en-US\",\"potentialAction\":[{\"@type\":\"ReadAction\",\"target\":[\"https://freeupscmaterials.org/vision-ias-complete-study-materials/\"]}]},{\"@type\":\"ImageObject\",\"inLanguage\":\"en-US\",\"@id\":\"https://freeupscmaterials.org/vision-ias-complete-study-materials/#primaryimage\",\"url\":\"https://i0.wp.com/freeupscmaterials.org/wp-content/uploads/2018/07/Free-UPSC-Study-Materials.png?fit=1140%2C634&ssl=1\",\"contentUrl\":\"https://i0.wp.com/freeupscmaterials.org/wp-content/uploads/2018/07/Free-UPSC-Study-Materials.png?fit=1140%2C634&ssl=1\",\"width\":1140,\"height\":634},{\"@type\":\"BreadcrumbList\",\"@id\":\"https://freeupscmaterials.org/vision-ias-complete-study-materials/#breadcrumb\",\"itemListElement\":[{\"@type\":\"ListItem\",\"position\":1,\"name\":\"Home\",\"item\":\"https://freeupscmaterials.org/\"},{\"@type\":\"ListItem\",\"position\":2,\"name\":\"Vision IAS Complete Study Materials\"}]},{\"@type\":\"WebSite\",\"@id\":\"https://freeupscmaterials.org/#website\",\"url\":\"https://freeupscmaterials.org/\",\"name\":\"Free Upsc Materials\",\"description\":\"A Free Companion for your Preparation\",\"publisher\":{\"@id\":\"https://freeupscmaterials.org/#organization\"},\"potentialAction\":[{\"@type\":\"SearchAction\",\"target\":{\"@type\":\"EntryPoint\",\"urlTemplate\":\"https://freeupscmaterials.org/?s={search_term_string}\"},\"query-input\":\"required name=search_term_string\"}],\"inLanguage\":\"en-US\"},{\"@type\":\"Organization\",\"@id\":\"https://freeupscmaterials.org/#organization\",\"name\":\"Free UPSC Materials\",\"url\":\"https://freeupscmaterials.org/\",\"logo\":{\"@type\":\"ImageObject\",\"inLanguage\":\"en-US\",\"@id\":\"https://freeupscmaterials.org/#/schema/logo/image/\",\"url\":\"https://i0.wp.com/freeupscmaterials.org/wp-content/uploads/2018/07/Free-UPSC-Study-Materials.png?fit=1140%2C634&ssl=1\",\"contentUrl\":\"https://i0.wp.com/freeupscmaterials.org/wp-content/uploads/2018/07/Free-UPSC-Study-Materials.png?fit=1140%2C634&ssl=1\",\"width\":1140,\"height\":634,\"caption\":\"Free UPSC Materials\"},\"image\":{\"@id\":\"https://freeupscmaterials.org/#/schema/logo/image/\"},\"sameAs\":[\"https://facebook.com/UpscOnlineOfficial\",\"https://x.com/IasMaterials\",\"https://instagram.com/FreeUpscMaterials\",\"https://telegram.me/CivilServicePDF\"]}]}</script><link rel=\"dns-prefetch\" href=\"//stats.wp.com\"><link rel=\"dns-prefetch\" href=\"//v0.wordpress.com\"><link rel=\"dns-prefetch\" href=\"//i0.wp.com\"><link rel=\"dns-prefetch\" href=\"//c0.wp.com\"><link rel=\"alternate\" type=\"application/rss+xml\" title=\"Free Upsc Materials » Feed\" href=\"https://freeupscmaterials.org/feed/\"><link rel=\"alternate\" type=\"application/rss+xml\" title=\"Free Upsc Materials » Comments Feed\" href=\"https://freeupscmaterials.org/comments/feed/\"><link rel=\"https://api.w.org/\" href=\"https://freeupscmaterials.org/wp-json/\"><link rel=\"alternate\" type=\"application/json\" href=\"https://freeupscmaterials.org/wp-json/wp/v2/pages/27290\"><link rel=\"EditURI\" type=\"application/rsd+xml\" title=\"RSD\" href=\"https://freeupscmaterials.org/xmlrpc.php?rsd\"><meta name=\"generator\" content=\"WordPress 6.5.3\"><link rel=\"shortlink\" href=\"https://wp.me/P99GTC-76a\"><link rel=\"alternate\" type=\"application/json+oembed\" href=\"https://freeupscmaterials.org/wp-json/oembed/1.0/embed?url=https%3A%2F%2Ffreeupscmaterials.org%2Fvision-ias-complete-study-materials%2F\"><link rel=\"alternate\" type=\"text/xml+oembed\" href=\"https://freeupscmaterials.org/wp-json/oembed/1.0/embed?url=https%3A%2F%2Ffreeupscmaterials.org%2Fvision-ias-complete-study-materials%2F&amp;format=xml\"><meta name=\"generator\" content=\"performance-lab 3.0.0; plugins: \"><link rel=\"amphtml\" href=\"https://freeupscmaterials.org/vision-ias-complete-study-materials/?amp\"><link rel=\"icon\" href=\"https://i0.wp.com/freeupscmaterials.org/wp-content/uploads/2018/03/cropped-UPSC.jpg?fit=32%2C32&amp;ssl=1\" sizes=\"32x32\"><link rel=\"icon\" href=\"https://i0.wp.com/freeupscmaterials.org/wp-content/uploads/2018/03/cropped-UPSC.jpg?fit=192%2C192&amp;ssl=1\" sizes=\"192x192\"><link rel=\"apple-touch-icon\" href=\"https://i0.wp.com/freeupscmaterials.org/wp-content/uploads/2018/03/cropped-UPSC.jpg?fit=180%2C180&amp;ssl=1\"><meta name=\"msapplication-TileImage\" content=\"https://i0.wp.com/freeupscmaterials.org/wp-content/uploads/2018/03/cropped-UPSC.jpg?fit=270%2C270&amp;ssl=1\"><link href=\"https://stats.wp.com/e-202419.js\" rel=\"preload\" as=\"script\"><link href=\"https://freeupscmaterials.org/wp-content/cache/autoptimize/js/autoptimize_581f4fcaaaf016fa1632e6dc2af74ec2.js\" rel=\"preload\" as=\"script\"></head><body class=\"page-template-default page page-id-27290 wp-custom-logo wp-embed-responsive post-image-aligned-center secondary-nav-below-header secondary-nav-aligned-right sticky-menu-fade both-sidebars nav-below-header separate-containers fluid-header active-footer-widgets-3 nav-search-enabled nav-aligned-left header-aligned-left dropdown-hover\" itemtype=\"https://schema.org/WebPage\" itemscope=\"\"><a class=\"screen-reader-text skip-link\" href=\"#content\" title=\"Skip to content\">Skip to content</a><header class=\"site-header\" id=\"masthead\" aria-label=\"Site\" itemtype=\"https://schema.org/WPHeader\" itemscope=\"\"><div class=\"inside-header grid-container grid-parent\"><div class=\"site-logo\"><a href=\"https://freeupscmaterials.org/\" rel=\"home\"><img class=\"header-image is-logo-image\" alt=\"Free Upsc Materials\" src=\"https://i0.wp.com/freeupscmaterials.org/wp-content/uploads/2022/09/Free-UPSC-Full-Logo-New.png?fit=300%2C80&amp;ssl=1\" srcset=\"https://i0.wp.com/freeupscmaterials.org/wp-content/uploads/2022/09/Free-UPSC-Full-Logo-New.png?fit=300%2C80&amp;ssl=1 1x, https://freeupscmaterials.org/wp-content/uploads/2022/09/Free-UPSC-Full-Logo-New.png 2x\" width=\"300\" height=\"80\"></a></div></div></header><nav class=\"main-navigation sub-menu-right\" id=\"site-navigation\" aria-label=\"Primary\" itemtype=\"https://schema.org/SiteNavigationElement\" itemscope=\"\"><div class=\"inside-navigation grid-container grid-parent\"><form method=\"get\" class=\"search-form navigation-search\" action=\"https://freeupscmaterials.org/\"><input type=\"search\" class=\"search-field\" value=\"\" name=\"s\" title=\"Search\"></form><div class=\"mobile-bar-items\"><span class=\"search-item\"><a aria-label=\"Open Search Bar\" href=\"#\"><span class=\"gp-icon icon-search\"><svg viewBox=\"0 0 512 512\" aria-hidden=\"true\" xmlns=\"http://www.w3.org/2000/svg\" width=\"1em\" height=\"1em\"><path fill-rule=\"evenodd\" clip-rule=\"evenodd\" d=\"M208 48c-88.366 0-160 71.634-160 160s71.634 160 160 160 160-71.634 160-160S296.366 48 208 48zM0 208C0 93.125 93.125 0 208 0s208 93.125 208 208c0 48.741-16.765 93.566-44.843 129.024l133.826 134.018c9.366 9.379 9.355 24.575-.025 33.941-9.379 9.366-24.575 9.355-33.941-.025L337.238 370.987C301.747 399.167 256.839 416 208 416 93.125 416 0 322.875 0 208z\"></path></svg><svg viewBox=\"0 0 512 512\" aria-hidden=\"true\" xmlns=\"http://www.w3.org/2000/svg\" width=\"1em\" height=\"1em\"><path d=\"M71.029 71.029c9.373-9.372 24.569-9.372 33.942 0L256 222.059l151.029-151.03c9.373-9.372 24.569-9.372 33.942 0 9.372 9.373 9.372 24.569 0 33.942L289.941 256l151.03 151.029c9.372 9.373 9.372 24.569 0 33.942-9.373 9.372-24.569 9.372-33.942 0L256 289.941l-151.029 151.03c-9.373 9.372-24.569 9.372-33.942 0-9.372-9.373-9.372-24.569 0-33.942L222.059 256 71.029 104.971c-9.372-9.373-9.372-24.569 0-33.942z\"></path></svg></span></a></span></div><button class=\"menu-toggle\" aria-controls=\"primary-menu\" aria-expanded=\"false\"><span class=\"gp-icon icon-menu-bars\"><svg viewBox=\"0 0 512 512\" aria-hidden=\"true\" xmlns=\"http://www.w3.org/2000/svg\" width=\"1em\" height=\"1em\"><path d=\"M0 96c0-13.255 10.745-24 24-24h464c13.255 0 24 10.745 24 24s-10.745 24-24 24H24c-13.255 0-24-10.745-24-24zm0 160c0-13.255 10.745-24 24-24h464c13.255 0 24 10.745 24 24s-10.745 24-24 24H24c-13.255 0-24-10.745-24-24zm0 160c0-13.255 10.745-24 24-24h464c13.255 0 24 10.745 24 24s-10.745 24-24 24H24c-13.255 0-24-10.745-24-24z\"></path></svg><svg viewBox=\"0 0 512 512\" aria-hidden=\"true\" xmlns=\"http://www.w3.org/2000/svg\" width=\"1em\" height=\"1em\"><path d=\"M71.029 71.029c9.373-9.372 24.569-9.372 33.942 0L256 222.059l151.029-151.03c9.373-9.372 24.569-9.372 33.942 0 9.372 9.373 9.372 24.569 0 33.942L289.941 256l151.03 151.029c9.372 9.373 9.372 24.569 0 33.942-9.373 9.372-24.569 9.372-33.942 0L256 289.941l-151.029 151.03c-9.373 9.372-24.569 9.372-33.942 0-9.372-9.373-9.372-24.569 0-33.942L222.059 256 71.029 104.971c-9.372-9.373-9.372-24.569 0-33.942z\"></path></svg></span><span class=\"screen-reader-text\">Menu</span></button><div id=\"primary-menu\" class=\"main-nav\"><ul id=\"menu-menu\" class=\" menu sf-menu\"><li id=\"menu-item-33075\" class=\"menu-item menu-item-type-post_type menu-item-object-page menu-item-home menu-item-33075\"><a href=\"https://freeupscmaterials.org/\"><svg xmlns=\"http://www.w3.org/2000/svg\" width=\"16\" height=\"16\" fill=\"currentColor\" class=\"bi bi-house-add-fill\" viewBox=\"0 0 16 16\"> <path d=\"M12.5 16a3.5 3.5 0 1 0 0-7 3.5 3.5 0 0 0 0 7m.5-5v1h1a.5.5 0 0 1 0 1h-1v1a.5.5 0 1 1-1 0v-1h-1a.5.5 0 1 1 0-1h1v-1a.5.5 0 0 1 1 0\"></path> <path d=\"M8.707 1.5a1 1 0 0 0-1.414 0L.646 8.146a.5.5 0 0 0 .708.708L8 2.207l6.646 6.647a.5.5 0 0 0 .708-.708L13 5.793V2.5a.5.5 0 0 0-.5-.5h-1a.5.5 0 0 0-.5.5v1.293z\"></path> <path d=\"m8 3.293 4.712 4.712A4.5 4.5 0 0 0 8.758 15H3.5A1.5 1.5 0 0 1 2 13.5V9.293z\"></path> </svg> Home</a></li><li id=\"menu-item-32953\" class=\"menu-item menu-item-type-post_type menu-item-object-page menu-item-32953\"><a href=\"https://freeupscmaterials.org/blog/\"><svg xmlns=\"http://www.w3.org/2000/svg\" width=\"16\" height=\"16\" fill=\"currentColor\" class=\"bi bi-lightning-fill\" viewBox=\"0 0 16 16\"> <path d=\"M5.52.359A.5.5 0 0 1 6 0h4a.5.5 0 0 1 .474.658L8.694 6H12.5a.5.5 0 0 1 .395.807l-7 9a.5.5 0 0 1-.873-.454L6.823 9.5H3.5a.5.5 0 0 1-.48-.641z\"></path> </svg> Blog</a></li><li id=\"menu-item-10740\" class=\"menu-item menu-item-type-post_type menu-item-object-page menu-item-10740\"><a href=\"https://freeupscmaterials.org/prelims/\"><svg xmlns=\"http://www.w3.org/2000/svg\" width=\"16\" height=\"16\" fill=\"currentColor\" class=\"bi bi-text-indent-right\" viewBox=\"0 0 16 16\"> <path d=\"M2 3.5a.5.5 0 0 1 .5-.5h11a.5.5 0 0 1 0 1h-11a.5.5 0 0 1-.5-.5m10.646 2.146a.5.5 0 0 1 .708.708L11.707 8l1.647 1.646a.5.5 0 0 1-.708.708l-2-2a.5.5 0 0 1 0-.708zM2 6.5a.5.5 0 0 1 .5-.5h6a.5.5 0 0 1 0 1h-6a.5.5 0 0 1-.5-.5m0 3a.5.5 0 0 1 .5-.5h6a.5.5 0 0 1 0 1h-6a.5.5 0 0 1-.5-.5m0 3a.5.5 0 0 1 .5-.5h11a.5.5 0 0 1 0 1h-11a.5.5 0 0 1-.5-.5\"></path> </svg> Prelims</a></li><li id=\"menu-item-10735\" class=\"menu-item menu-item-type-post_type menu-item-object-page menu-item-10735\"><a href=\"https://freeupscmaterials.org/mains/\"><svg xmlns=\"http://www.w3.org/2000/svg\" width=\"16\" height=\"16\" fill=\"currentColor\" class=\"bi bi-pencil-square\" viewBox=\"0 0 16 16\"> <path d=\"M15.502 1.94a.5.5 0 0 1 0 .706L14.459 3.69l-2-2L13.502.646a.5.5 0 0 1 .707 0l1.293 1.293zm-1.75 2.456-2-2L4.939 9.21a.5.5 0 0 0-.121.196l-.805 2.414a.25.25 0 0 0 .316.316l2.414-.805a.5.5 0 0 0 .196-.12l6.813-6.814z\"></path> <path fill-rule=\"evenodd\" d=\"M1 13.5A1.5 1.5 0 0 0 2.5 15h11a1.5 1.5 0 0 0 1.5-1.5v-6a.5.5 0 0 0-1 0v6a.5.5 0 0 1-.5.5h-11a.5.5 0 0 1-.5-.5v-11a.5.5 0 0 1 .5-.5H9a.5.5 0 0 0 0-1H2.5A1.5 1.5 0 0 0 1 2.5z\"></path> </svg> Mains</a></li><li id=\"menu-item-10739\" class=\"menu-item menu-item-type-post_type menu-item-object-page menu-item-10739\"><a href=\"https://freeupscmaterials.org/standard-books/\"><svg xmlns=\"http://www.w3.org/2000/svg\" width=\"16\" height=\"16\" fill=\"currentColor\" class=\"bi bi-book\" viewBox=\"0 0 16 16\"> <path d=\"M1 2.828c.885-.37 2.154-.769 3.388-.893 1.33-.134 2.458.063 3.112.752v9.746c-.935-.53-2.12-.603-3.213-.493-1.18.12-2.37.461-3.287.811zm7.5-.141c.654-.689 1.782-.886 3.112-.752 1.234.124 2.503.523 3.388.893v9.923c-.918-.35-2.107-.692-3.287-.81-1.094-.111-2.278-.039-3.213.492zM8 1.783C7.015.936 5.587.81 4.287.94c-1.514.153-3.042.672-3.994 1.105A.5.5 0 0 0 0 2.5v11a.5.5 0 0 0 .707.455c.882-.4 2.303-.881 3.68-1.02 1.409-.142 2.59.087 3.223.877a.5.5 0 0 0 .78 0c.633-.79 1.814-1.019 3.222-.877 1.378.139 2.8.62 3.681 1.02A.5.5 0 0 0 16 13.5v-11a.5.5 0 0 0-.293-.455c-.952-.433-2.48-.952-3.994-1.105C10.413.809 8.985.936 8 1.783\"></path> </svg> E-Books</a></li><li id=\"menu-item-10741\" class=\"menu-item menu-item-type-post_type menu-item-object-page menu-item-10741\"><a href=\"https://freeupscmaterials.org/coaching-institutions-materials/\"><svg xmlns=\"http://www.w3.org/2000/svg\" width=\"16\" height=\"16\" fill=\"currentColor\" class=\"bi bi-journal-arrow-down\" viewBox=\"0 0 16 16\"> <path fill-rule=\"evenodd\" d=\"M8 5a.5.5 0 0 1 .5.5v3.793l1.146-1.147a.5.5 0 0 1 .708.708l-2 2a.5.5 0 0 1-.708 0l-2-2a.5.5 0 1 1 .708-.708L7.5 9.293V5.5A.5.5 0 0 1 8 5\"></path> <path d=\"M3 0h10a2 2 0 0 1 2 2v12a2 2 0 0 1-2 2H3a2 2 0 0 1-2-2v-1h1v1a1 1 0 0 0 1 1h10a1 1 0 0 0 1-1V2a1 1 0 0 0-1-1H3a1 1 0 0 0-1 1v1H1V2a2 2 0 0 1 2-2\"></path> <path d=\"M1 5v-.5a.5.5 0 0 1 1 0V5h.5a.5.5 0 0 1 0 1h-2a.5.5 0 0 1 0-1zm0 3v-.5a.5.5 0 0 1 1 0V8h.5a.5.5 0 0 1 0 1h-2a.5.5 0 0 1 0-1zm0 3v-.5a.5.5 0 0 1 1 0v.5h.5a.5.5 0 0 1 0 1h-2a.5.5 0 0 1 0-1z\"></path> </svg> Coaching Materials</a></li><li id=\"menu-item-10736\" class=\"menu-item menu-item-type-post_type menu-item-object-page menu-item-10736\"><a href=\"https://freeupscmaterials.org/optionals/\"><svg xmlns=\"http://www.w3.org/2000/svg\" width=\"16\" height=\"16\" fill=\"currentColor\" class=\"bi bi-signpost-split\" viewBox=\"0 0 16 16\"> <path d=\"M7 7V1.414a1 1 0 0 1 2 0V2h5a1 1 0 0 1 .8.4l.975 1.3a.5.5 0 0 1 0 .6L14.8 5.6a1 1 0 0 1-.8.4H9v10H7v-5H2a1 1 0 0 1-.8-.4L.225 9.3a.5.5 0 0 1 0-.6L1.2 7.4A1 1 0 0 1 2 7zm1 3V8H2l-.75 1L2 10zm0-5h6l.75-1L14 3H8z\"></path> </svg> Optionals</a></li><li id=\"menu-item-10738\" class=\"menu-item menu-item-type-post_type menu-item-object-page menu-item-has-children menu-item-10738\"><a href=\"https://freeupscmaterials.org/test-series/\"><svg xmlns=\"http://www.w3.org/2000/svg\" width=\"16\" height=\"16\" fill=\"currentColor\" class=\"bi bi-bookmark-check-fill\" viewBox=\"0 0 16 16\"> <path fill-rule=\"evenodd\" d=\"M2 15.5V2a2 2 0 0 1 2-2h8a2 2 0 0 1 2 2v13.5a.5.5 0 0 1-.74.439L8 13.069l-5.26 2.87A.5.5 0 0 1 2 15.5m8.854-9.646a.5.5 0 0 0-.708-.708L7.5 7.793 6.354 6.646a.5.5 0 1 0-.708.708l1.5 1.5a.5.5 0 0 0 .708 0z\"></path> </svg> Test Series<span role=\"presentation\" class=\"dropdown-menu-toggle\"><span class=\"gp-icon icon-arrow\"><svg viewBox=\"0 0 330 512\" aria-hidden=\"true\" xmlns=\"http://www.w3.org/2000/svg\" width=\"1em\" height=\"1em\"><path d=\"M305.913 197.085c0 2.266-1.133 4.815-2.833 6.514L171.087 335.593c-1.7 1.7-4.249 2.832-6.515 2.832s-4.815-1.133-6.515-2.832L26.064 203.599c-1.7-1.7-2.832-4.248-2.832-6.514s1.132-4.816 2.832-6.515l14.162-14.163c1.7-1.699 3.966-2.832 6.515-2.832 2.266 0 4.815 1.133 6.515 2.832l111.316 111.317 111.316-111.317c1.7-1.699 4.249-2.832 6.515-2.832s4.815 1.133 6.515 2.832l14.162 14.163c1.7 1.7 2.833 4.249 2.833 6.515z\"></path></svg></span></span></a><ul class=\"sub-menu\"><li id=\"menu-item-36252\" class=\"menu-item menu-item-type-post_type menu-item-object-page menu-item-36252\"><a href=\"https://freeupscmaterials.org/prelims-2024-test-series/\">Prelims 2024 Test Series</a></li><li id=\"menu-item-36255\" class=\"menu-item menu-item-type-post_type menu-item-object-page menu-item-36255\"><a href=\"https://freeupscmaterials.org/upsc-mains-2023-test-series/\">Mains 2023 Test Series</a></li><li id=\"menu-item-31651\" class=\"menu-item menu-item-type-post_type menu-item-object-page menu-item-31651\"><a href=\"https://freeupscmaterials.org/prelims-2023-test-series/\">Prelims 2023 Test Series</a></li><li id=\"menu-item-31652\" class=\"menu-item menu-item-type-post_type menu-item-object-page menu-item-31652\"><a href=\"https://freeupscmaterials.org/upsc-mains-2022-test-series/\">Mains 2022 Test Series</a></li><li id=\"menu-item-30450\" class=\"menu-item menu-item-type-post_type menu-item-object-page menu-item-30450\"><a href=\"https://freeupscmaterials.org/prelims-2022-test-series/\">Prelims 2022 Test Series</a></li><li id=\"menu-item-30449\" class=\"menu-item menu-item-type-post_type menu-item-object-page menu-item-30449\"><a href=\"https://freeupscmaterials.org/upsc-mains-2021-test-series/\">Mains 2021 Test Series</a></li><li id=\"menu-item-27500\" class=\"menu-item menu-item-type-post_type menu-item-object-page menu-item-27500\"><a href=\"https://freeupscmaterials.org/prelims-2021-test-series/\">Prelims 2021 Test Series</a></li><li id=\"menu-item-27502\" class=\"menu-item menu-item-type-post_type menu-item-object-page menu-item-27502\"><a href=\"https://freeupscmaterials.org/upsc-mains-2020-test-series/\">Mains 2020 Test Series</a></li><li id=\"menu-item-27501\" class=\"menu-item menu-item-type-post_type menu-item-object-page menu-item-27501\"><a href=\"https://freeupscmaterials.org/prelims-2020-test-series/\">Prelims 2020 Test Series</a></li></ul></li><li id=\"menu-item-10737\" class=\"menu-item menu-item-type-post_type menu-item-object-page menu-item-10737\"><a href=\"https://freeupscmaterials.org/current-affairs/\"><svg xmlns=\"http://www.w3.org/2000/svg\" width=\"16\" height=\"16\" fill=\"currentColor\" class=\"bi bi-newspaper\" viewBox=\"0 0 16 16\"> <path d=\"M0 2.5A1.5 1.5 0 0 1 1.5 1h11A1.5 1.5 0 0 1 14 2.5v10.528c0 .3-.05.654-.238.972h.738a.5.5 0 0 0 .5-.5v-9a.5.5 0 0 1 1 0v9a1.5 1.5 0 0 1-1.5 1.5H1.497A1.497 1.497 0 0 1 0 13.5zM12 14c.37 0 .654-.211.853-.441.092-.106.147-.279.147-.531V2.5a.5.5 0 0 0-.5-.5h-11a.5.5 0 0 0-.5.5v11c0 .278.223.5.497.5z\"></path> <path d=\"M2 3h10v2H2zm0 3h4v3H2zm0 4h4v1H2zm0 2h4v1H2zm5-6h2v1H7zm3 0h2v1h-2zM7 8h2v1H7zm3 0h2v1h-2zm-3 2h2v1H7zm3 0h2v1h-2zm-3 2h2v1H7zm3 0h2v1h-2z\"></path> </svg> Current Affairs</a></li><li id=\"menu-item-13726\" class=\"menu-item menu-item-type-post_type menu-item-object-page menu-item-13726\"><a href=\"https://freeupscmaterials.org/advertise-with-us/\"><svg xmlns=\"http://www.w3.org/2000/svg\" width=\"16\" height=\"16\" fill=\"currentColor\" class=\"bi bi-sign-intersection-y\" viewBox=\"0 0 16 16\"> <path d=\"M10.493 5.197 8 7.483 5.507 5.197 4.493 6.303 7.25 8.83V12h1.5V8.83l2.757-2.527z\"></path> <path d=\"M9.05.435c-.58-.58-1.52-.58-2.1 0L.436 6.95c-.58.58-.58 1.519 0 2.098l6.516 6.516c.58.58 1.519.58 2.098 0l6.516-6.516c.58-.58.58-1.519 0-2.098zm-1.4.7a.495.495 0 0 1 .7 0l6.516 6.515a.495.495 0 0 1 0 .7L8.35 14.866a.495.495 0 0 1-.7 0L1.134 8.35a.495.495 0 0 1 0-.7L7.65 1.134Z\"></path> </svg> Advertise with Us</a></li><li id=\"menu-item-42027\" class=\"menu-item menu-item-type-post_type menu-item-object-page menu-item-42027\"><a href=\"https://freeupscmaterials.org/premium/\"><svg xmlns=\"http://www.w3.org/2000/svg\" width=\"16\" height=\"16\" fill=\"currentColor\" class=\"bi bi-gift\" viewBox=\"0 0 16 16\"> <path d=\"M3 2.5a2.5 2.5 0 0 1 5 0 2.5 2.5 0 0 1 5 0v.006c0 .07 0 .27-.038.494H15a1 1 0 0 1 1 1v2a1 1 0 0 1-1 1v7.5a1.5 1.5 0 0 1-1.5 1.5h-11A1.5 1.5 0 0 1 1 14.5V7a1 1 0 0 1-1-1V4a1 1 0 0 1 1-1h2.038A3 3 0 0 1 3 2.506zm1.068.5H7v-.5a1.5 1.5 0 1 0-3 0c0 .085.002.274.045.43zM9 3h2.932l.023-.07c.043-.156.045-.345.045-.43a1.5 1.5 0 0 0-3 0zM1 4v2h6V4zm8 0v2h6V4zm5 3H9v8h4.5a.5.5 0 0 0 .5-.5zm-7 8V7H2v7.5a.5.5 0 0 0 .5.5z\"></path> </svg> Premium Access</a></li><li id=\"menu-item-42028\" class=\"menu-item menu-item-type-post_type menu-item-object-page menu-item-42028\"><a href=\"https://freeupscmaterials.org/pay-for-upsc-materials/\"><svg xmlns=\"http://www.w3.org/2000/svg\" width=\"16\" height=\"16\" fill=\"currentColor\" class=\"bi bi-database-fill-down\" viewBox=\"0 0 16 16\"> <path d=\"M12.5 9a3.5 3.5 0 1 1 0 7 3.5 3.5 0 0 1 0-7m.354 5.854 1.5-1.5a.5.5 0 0 0-.708-.708l-.646.647V10.5a.5.5 0 0 0-1 0v2.793l-.646-.647a.5.5 0 0 0-.708.708l1.5 1.5a.5.5 0 0 0 .708 0M8 1c-1.573 0-3.022.289-4.096.777C2.875 2.245 2 2.993 2 4s.875 1.755 1.904 2.223C4.978 6.711 6.427 7 8 7s3.022-.289 4.096-.777C13.125 5.755 14 5.007 14 4s-.875-1.755-1.904-2.223C11.022 1.289 9.573 1 8 1\"></path> <path d=\"M2 7v-.839c.457.432 1.004.751 1.49.972C4.722 7.693 6.318 8 8 8s3.278-.307 4.51-.867c.486-.22 1.033-.54 1.49-.972V7c0 .424-.155.802-.411 1.133a4.51 4.51 0 0 0-4.815 1.843A12 12 0 0 1 8 10c-1.573 0-3.022-.289-4.096-.777C2.875 8.755 2 8.007 2 7m6.257 3.998L8 11c-1.682 0-3.278-.307-4.51-.867-.486-.22-1.033-.54-1.49-.972V10c0 1.007.875 1.755 1.904 2.223C4.978 12.711 6.427 13 8 13h.027a4.55 4.55 0 0 1 .23-2.002m-.002 3L8 14c-1.682 0-3.278-.307-4.51-.867-.486-.22-1.033-.54-1.49-.972V13c0 1.007.875 1.755 1.904 2.223C4.978 15.711 6.427 16 8 16c.536 0 1.058-.034 1.555-.097a4.5 4.5 0 0 1-1.3-1.905\"></path> </svg> Donate</a></li><li class=\"search-item menu-item-align-right\"><a aria-label=\"Open Search Bar\" href=\"#\"><span class=\"gp-icon icon-search\"><svg viewBox=\"0 0 512 512\" aria-hidden=\"true\" xmlns=\"http://www.w3.org/2000/svg\" width=\"1em\" height=\"1em\"><path fill-rule=\"evenodd\" clip-rule=\"evenodd\" d=\"M208 48c-88.366 0-160 71.634-160 160s71.634 160 160 160 160-71.634 160-160S296.366 48 208 48zM0 208C0 93.125 93.125 0 208 0s208 93.125 208 208c0 48.741-16.765 93.566-44.843 129.024l133.826 134.018c9.366 9.379 9.355 24.575-.025 33.941-9.379 9.366-24.575 9.355-33.941-.025L337.238 370.987C301.747 399.167 256.839 416 208 416 93.125 416 0 322.875 0 208z\"></path></svg><svg viewBox=\"0 0 512 512\" aria-hidden=\"true\" xmlns=\"http://www.w3.org/2000/svg\" width=\"1em\" height=\"1em\"><path d=\"M71.029 71.029c9.373-9.372 24.569-9.372 33.942 0L256 222.059l151.029-151.03c9.373-9.372 24.569-9.372 33.942 0 9.372 9.373 9.372 24.569 0 33.942L289.941 256l151.03 151.029c9.372 9.373 9.372 24.569 0 33.942-9.373 9.372-24.569 9.372-33.942 0L256 289.941l-151.029 151.03c-9.373 9.372-24.569 9.372-33.942 0-9.372-9.373-9.372-24.569 0-33.942L222.059 256 71.029 104.971c-9.372-9.373-9.372-24.569 0-33.942z\"></path></svg></span></a></li></ul></div></div></nav><div class=\"gb-container gb-container-e0bbdd7a\"><div class=\"gb-inside-container\"><div class=\"gb-container gb-container-84ff8296\"><div class=\"gb-inside-container\"><div class=\"gb-grid-wrapper gb-grid-wrapper-40b07ae4\"><div class=\"gb-grid-column gb-grid-column-e74dac19\"><div class=\"gb-container gb-container-e74dac19\"><div class=\"gb-inside-container\"><div class=\"gb-container gb-container-abf2f43f\"><div class=\"gb-inside-container\"><div class=\"code-block code-block-11\" style=\"margin: 8px auto; text-align: center; display: block; clear: both;\"><center><a href=\"https://shortnotesias.com/product/current-shots-365-2024/\" target=\"_blank\" rel=\"noopener\"><img decoding=\"async\" class=\"aligncenter\" style=\"width: 300px; height: 250px; border-radius: 12px;\" src=\"https://freeupscmaterials.org/wp-content/uploads/cwv-webp-images/2024/05/Current-Shots-365-ad-may-24-cr1.png.webp\" alt=\"Short Notes IAS CS365\" srcset=\"\"></a></center></div></div></div></div></div></div><div class=\"gb-grid-column gb-grid-column-ece6f1c2\"><div class=\"gb-container gb-container-ece6f1c2\"><div class=\"gb-inside-container\"><div class=\"gb-container gb-container-b0ad579d\"><div class=\"gb-inside-container\"><div class=\"code-block code-block-13\" style=\"margin: 8px 0; clear: both;\"><center><a href=\"https://shortnotesias.com/courses\" target=\"_blank\" rel=\"noopener\"><img decoding=\"async\" class=\"aligncenter\" style=\"width: 300px; height: 250px; border-radius: 12px;\" src=\"https://iashome.files.wordpress.com/2022/08/static-shots-pqrn-ad1-300.png\" alt=\"Short Notes IAS Courses\"></a></center></div></div></div></div></div></div><div class=\"gb-grid-column gb-grid-column-7b5246c9\"><div class=\"gb-container gb-container-7b5246c9\"><div class=\"gb-inside-container\"><div class=\"gb-container gb-container-3e15b8cb\"><div class=\"gb-inside-container\"><div class=\"code-block code-block-14\" style=\"margin: 8px 0; clear: both;\"><center><a href=\"https://copynotes.in/shop\" target=\"_blank\" rel=\"noopener\"><img decoding=\"async\" class=\"aligncenter\" style=\"width: 300px; height: 250px; border-radius: 12px;\" src=\"https://freeupscmaterials.org/wp-content/uploads/cwv-webp-images/2023/07/Copy-Notes-Banner-August-2023.png.webp\" alt=\"Copy Notes Products\" srcset=\"\"></a></center></div></div></div></div></div></div></div></div></div></div></div><div class=\"site grid-container container hfeed grid-parent\" id=\"page\"><div class=\"site-content\" id=\"content\"><div class=\"content-area grid-parent mobile-grid-100 push-20 grid-55 tablet-push-20 tablet-grid-55\" id=\"primary\"><main class=\"site-main\" id=\"main\"><article id=\"post-27290\" class=\"post-27290 page type-page status-publish has-post-thumbnail\" itemtype=\"https://schema.org/CreativeWork\" itemscope=\"\"><div class=\"inside-article\"><header class=\"entry-header\"><h1 class=\"entry-title\" itemprop=\"headline\">Vision IAS Complete Study Materials</h1></header><div class=\"entry-content\" itemprop=\"text\"><hr><h2 style=\"text-align: center;\">Vision IAS Classroom Study Materials 2023</h2><hr><p><br></p><ul class=\"lcp_catlist\" id=\"lcp_instance_0\"><li><a href=\"https://freeupscmaterials.org/vision-ias-indian-economy-classroom-material-pdf/\">Vision IAS Indian Economy Material Class Notes 2023 PDF</a></li><li><a href=\"https://freeupscmaterials.org/vision-ias-disaster-management-classroom-material-pdf/\">Vision IAS Disaster Management Material Class Notes 2023 PDF</a></li><li><a href=\"https://freeupscmaterials.org/vision-ias-art-and-culture-classroom-material-pdf/\">Vision IAS Art and Culture Material Class Notes 2023 PDF</a></li><li><a href=\"https://freeupscmaterials.org/vision-ias-world-history-classroom-material-pdf/\">Vision IAS World History Material Class Notes 2023 PDF</a></li><li><a href=\"https://freeupscmaterials.org/vision-ias-essay-material-pdf/\">Vision IAS Essay Material Notes 2023 PDF</a></li><li><a href=\"https://freeupscmaterials.org/vision-ias-indian-economy-printed-notes-pdf/\">Vision IAS Indian Economy Printed Notes PDF</a></li><li><a href=\"https://freeupscmaterials.org/vision-ias-disaster-management-classroom-printed-notes-pdf/\">Vision IAS Disaster Management Classroom Printed Notes PDF</a></li><li><a href=\"https://freeupscmaterials.org/vision-ias-ethics-classroom-material-pdf/\">Vision IAS Ethics Classroom Material PDF</a></li></ul><hr><h2 style=\"text-align: center;\">Vision IAS Value Added Materials [Old]</h2><hr><p><br></p><ul class=\"lcp_catlist\" id=\"lcp_instance_0\"><li><a href=\"https://freeupscmaterials.org/vision-ias-environment-latest-value-added-materials-pdf/\">Vision IAS Environment Latest Value Added Materials and Notes PDF</a></li><li><a href=\"https://freeupscmaterials.org/vision-ias-essay-latest-value-added-materials-pdf/\">Vision IAS Essay Latest Value Added Materials PDF</a></li><li><a href=\"https://freeupscmaterials.org/vision-ias-essay-latest-updated-complete-materials-pdf/\">Vision IAS Essay Latest Updated Complete Materials PDF</a></li><li><a href=\"https://freeupscmaterials.org/vision-ias-gs4-latest-value-added-materials-pdf/\">Vision IAS GS4 Latest Value Added Materials PDF</a></li><li><a href=\"https://freeupscmaterials.org/vision-ias-gs3-latest-value-added-materials-pdf/\">Vision IAS GS3 Latest Value Added Materials PDF</a></li><li><a href=\"https://freeupscmaterials.org/vision-ias-gs2-latest-value-added-materials-pdf/\">Vision IAS GS2 Latest Value Added Materials PDF</a></li><li><a href=\"https://freeupscmaterials.org/vision-ias-gs1-latest-value-added-materials-pdf/\">Vision IAS GS1 Latest Value Added Materials PDF</a></li><li><a href=\"https://freeupscmaterials.org/vision-ias-gs4-complete-materials-pdf/\">Vision IAS GS4 Complete Materials PDF</a></li><li><a href=\"https://freeupscmaterials.org/vision-ias-gs3-complete-materials-pdf/\">Vision IAS GS3 Complete Materials PDF</a></li><li><a href=\"https://freeupscmaterials.org/vision-ias-gs2-complete-materials-pdf/\">Vision IAS GS2 Complete Materials PDF</a></li><li><a href=\"https://freeupscmaterials.org/vision-ias-gs1-complete-materials-pdf/\">Vision IAS GS1 Complete Materials PDF</a></li></ul><hr></div></div></article><div class=\"gb-container gb-container-366a1a73\"><div class=\"gb-inside-container\"><h3 class=\"gb-headline gb-headline-cfd90b5e\"><span class=\"gb-icon\"><svg aria-hidden=\"true\" role=\"img\" height=\"1em\" width=\"1em\" viewBox=\"0 0 512 512\" xmlns=\"http://www.w3.org/2000/svg\"><path fill=\"currentColor\" d=\"M464 64H48C21.49 64 0 85.49 0 112v288c0 26.51 21.49 48 48 48h416c26.51 0 48-21.49 48-48V112c0-26.51-21.49-48-48-48zm0 48v40.805c-22.422 18.259-58.168 46.651-134.587 106.49-16.841 13.247-50.201 45.072-73.413 44.701-23.208.375-56.579-31.459-73.413-44.701C106.18 199.465 70.425 171.067 48 152.805V112h416zM48 400V214.398c22.914 18.251 55.409 43.862 104.938 82.646 21.857 17.205 60.134 55.186 103.062 54.955 42.717.231 80.509-37.199 103.053-54.947 49.528-38.783 82.032-64.401 104.947-82.653V400H48z\"></path></svg></span><span class=\"gb-headline-text\">Receive the latest articles in your inbox</span></h3><div class=\"gb-container gb-container-614b9211\"><div class=\"gb-inside-container\"><div class=\"jetpack_subscription_widget\"><h2 class=\"widgettitle\"></h2><div class=\"wp-block-jetpack-subscriptions__container\"><form action=\"#\" method=\"post\" accept-charset=\"utf-8\" id=\"subscribe-blog-2\" data-blog=\"135296872\" data-post_access_level=\"everybody\"><p id=\"subscribe-email\"><label id=\"jetpack-subscribe-label\" class=\"screen-reader-text\" for=\"subscribe-field-2\">Email Address</label><input type=\"email\" name=\"email\" required=\"required\" value=\"\" id=\"subscribe-field-2\" placeholder=\"Email Address\"></p><p id=\"subscribe-submit\"><input type=\"hidden\" name=\"action\" value=\"subscribe\"><input type=\"hidden\" name=\"source\" value=\"https://freeupscmaterials.org/vision-ias-complete-study-materials/\"><input type=\"hidden\" name=\"sub-type\" value=\"widget\"><input type=\"hidden\" name=\"redirect_fragment\" value=\"subscribe-blog-2\"><input type=\"hidden\" id=\"_wpnonce\" name=\"_wpnonce\" value=\"f3fc3894cb\"><input type=\"hidden\" name=\"_wp_http_referer\" value=\"/vision-ias-complete-study-materials/\"><button type=\"submit\" class=\"wp-block-button__link\" style=\"margin: 0px; margin-left: 0px;\" name=\"jetpack_subscriptions_widget\">Subscribe Now</button></p></form></div></div></div></div></div></div></main></div><div class=\"widget-area sidebar is-left-sidebar grid-20 tablet-grid-20 mobile-grid-100 grid-parent pull-55 tablet-pull-55\" id=\"left-sidebar\"><div class=\"inside-left-sidebar\"><aside id=\"block-40\" class=\"widget inner-padding widget_block\"><div class=\"gb-container gb-container-48cc11f5\"><div class=\"gb-inside-container\"><div class=\"gb-container gb-container-b13ca3e7\"><div class=\"gb-inside-container\"><div class=\"widget widget_top-posts\"><h2 class=\"widgettitle\">Trending Now</h2><ul><li><a href=\"https://freeupscmaterials.org/vision-ias-prelims-2024-test-1-with-solutions-pdf/\" class=\"bump-view\" data-bump-view=\"tp\">Vision IAS Prelims 2024 Test 1 with Solutions PDF</a></li><li><a href=\"https://freeupscmaterials.org/vinsion-ias-prelims-2024-test-10-with-solutions-pdf/\" class=\"bump-view\" data-bump-view=\"tp\">Vinsion IAS Prelims 2024 Test 10 with Solutions PDF</a></li><li><a href=\"https://freeupscmaterials.org/a-brief-history-of-modern-india-by-rajiv-ahir-spectrum-new-pdf/\" class=\"bump-view\" data-bump-view=\"tp\">A Brief History of Modern India by Rajiv Ahir Spectrum Publications PDF</a></li><li><a href=\"https://freeupscmaterials.org/vision-ias-indian-economy-classroom-material-pdf/\" class=\"bump-view\" data-bump-view=\"tp\">Vision IAS Indian Economy Material Class Notes 2023 PDF</a></li><li><a href=\"https://freeupscmaterials.org/upsc-previous-papers-solved-mcq-by-disha-publication-pdf/\" class=\"bump-view\" data-bump-view=\"tp\">26 Years UPSC Previous Papers Solved MCQ by Disha Publication 11th Edition PDF</a></li><li><a href=\"https://freeupscmaterials.org/ancient-indian-history-by-rs-sharma-pdf-old-ncert/\" class=\"bump-view\" data-bump-view=\"tp\">Ancient Indian History by RS Sharma PDF [Old NCERT]</a></li><li><a href=\"https://freeupscmaterials.org/shankar-ias-environment-8th-edition-pdf/\" class=\"bump-view\" data-bump-view=\"tp\">Shankar IAS Environment 8th Edition PDF</a></li><li><a href=\"https://freeupscmaterials.org/vision-ias-prelims-2024-test-9-with-solutions-pdf/\" class=\"bump-view\" data-bump-view=\"tp\">Vision IAS Prelims 2024 Test 9 with Solutions PDF</a></li><li><a href=\"https://freeupscmaterials.org/vision-ias-prelims-2024-test-6-with-solutions-pdf/\" class=\"bump-view\" data-bump-view=\"tp\">Vision IAS Prelims 2024 Test 6 with Solutions PDF</a></li><li><a href=\"https://freeupscmaterials.org/vision-ias-gs1-complete-materials-pdf/\" class=\"bump-view\" data-bump-view=\"tp\">Vision IAS GS1 Complete Materials PDF</a></li></ul></div></div></div></div></div></aside><aside id=\"block-49\" class=\"widget inner-padding widget_block\"><h2 class=\"widget-title\">Most Popular Downloads</h2><div class=\"wp-widget-group__inner-blocks\"><div class=\"gb-container gb-container-a6c89ac7\"><div class=\"gb-inside-container\"><p class=\"gb-headline gb-headline-215fd5a0\"><span class=\"gb-icon\"><svg aria-hidden=\"true\" role=\"img\" height=\"1em\" width=\"1em\" viewBox=\"0 0 448 512\" xmlns=\"http://www.w3.org/2000/svg\"><path fill=\"currentColor\" d=\"M323.56 51.2c-20.8 19.3-39.58 39.59-56.22 59.97C240.08 73.62 206.28 35.53 168 0 69.74 91.17 0 209.96 0 281.6 0 408.85 100.29 512 224 512s224-103.15 224-230.4c0-53.27-51.98-163.14-124.44-230.4zm-19.47 340.65C282.43 407.01 255.72 416 226.86 416 154.71 416 96 368.26 96 290.75c0-38.61 24.31-72.63 72.79-130.75 6.93 7.98 98.83 125.34 98.83 125.34l58.63-66.88c4.14 6.85 7.91 13.55 11.27 19.97 27.35 52.19 15.81 118.97-33.43 153.42z\"></path></svg></span><span class=\"gb-headline-text\"><a rel=\"noreferrer noopener\" href=\"https://freeupscmaterials.org/vision-ias-complete-study-materials/\" target=\"_blank\">Vision Complete Study Materials PDF</a></span></p><p class=\"gb-headline gb-headline-3acd81ee\"><span class=\"gb-icon\"><svg aria-hidden=\"true\" role=\"img\" height=\"1em\" width=\"1em\" viewBox=\"0 0 448 512\" xmlns=\"http://www.w3.org/2000/svg\"><path fill=\"currentColor\" d=\"M323.56 51.2c-20.8 19.3-39.58 39.59-56.22 59.97C240.08 73.62 206.28 35.53 168 0 69.74 91.17 0 209.96 0 281.6 0 408.85 100.29 512 224 512s224-103.15 224-230.4c0-53.27-51.98-163.14-124.44-230.4zm-19.47 340.65C282.43 407.01 255.72 416 226.86 416 154.71 416 96 368.26 96 290.75c0-38.61 24.31-72.63 72.79-130.75 6.93 7.98 98.83 125.34 98.83 125.34l58.63-66.88c4.14 6.85 7.91 13.55 11.27 19.97 27.35 52.19 15.81 118.97-33.43 153.42z\"></path></svg></span><span class=\"gb-headline-text\"><a rel=\"noreferrer noopener\" href=\"https://freeupscmaterials.org/standard-books/\" target=\"_blank\">Download All Standard E-Books for IAS Preparation</a></span></p><p class=\"gb-headline gb-headline-19f9f0d5\"><span class=\"gb-icon\"><svg aria-hidden=\"true\" role=\"img\" height=\"1em\" width=\"1em\" viewBox=\"0 0 448 512\" xmlns=\"http://www.w3.org/2000/svg\"><path fill=\"currentColor\" d=\"M323.56 51.2c-20.8 19.3-39.58 39.59-56.22 59.97C240.08 73.62 206.28 35.53 168 0 69.74 91.17 0 209.96 0 281.6 0 408.85 100.29 512 224 512s224-103.15 224-230.4c0-53.27-51.98-163.14-124.44-230.4zm-19.47 340.65C282.43 407.01 255.72 416 226.86 416 154.71 416 96 368.26 96 290.75c0-38.61 24.31-72.63 72.79-130.75 6.93 7.98 98.83 125.34 98.83 125.34l58.63-66.88c4.14 6.85 7.91 13.55 11.27 19.97 27.35 52.19 15.81 118.97-33.43 153.42z\"></path></svg></span><span class=\"gb-headline-text\"><a rel=\"noreferrer noopener\" href=\"https://freeupscmaterials.org/upsc-ias-prelims-book-list-and-links/\" target=\"_blank\">UPSC IAS Prelims Book List and Links All at one Place</a></span></p><p class=\"gb-headline gb-headline-8e1243bc\"><span class=\"gb-icon\"><svg aria-hidden=\"true\" role=\"img\" height=\"1em\" width=\"1em\" viewBox=\"0 0 448 512\" xmlns=\"http://www.w3.org/2000/svg\"><path fill=\"currentColor\" d=\"M323.56 51.2c-20.8 19.3-39.58 39.59-56.22 59.97C240.08 73.62 206.28 35.53 168 0 69.74 91.17 0 209.96 0 281.6 0 408.85 100.29 512 224 512s224-103.15 224-230.4c0-53.27-51.98-163.14-124.44-230.4zm-19.47 340.65C282.43 407.01 255.72 416 226.86 416 154.71 416 96 368.26 96 290.75c0-38.61 24.31-72.63 72.79-130.75 6.93 7.98 98.83 125.34 98.83 125.34l58.63-66.88c4.14 6.85 7.91 13.55 11.27 19.97 27.35 52.19 15.81 118.97-33.43 153.42z\"></path></svg></span><span class=\"gb-headline-text\"><a rel=\"noreferrer noopener\" href=\"https://freeupscmaterials.org/prelims-test-series/\" target=\"_blank\">Download All UPSC CSE Prelims Test Series at one Place</a></span></p><p class=\"gb-headline gb-headline-d2ea21ce\"><span class=\"gb-icon\"><svg aria-hidden=\"true\" role=\"img\" height=\"1em\" width=\"1em\" viewBox=\"0 0 448 512\" xmlns=\"http://www.w3.org/2000/svg\"><path fill=\"currentColor\" d=\"M323.56 51.2c-20.8 19.3-39.58 39.59-56.22 59.97C240.08 73.62 206.28 35.53 168 0 69.74 91.17 0 209.96 0 281.6 0 408.85 100.29 512 224 512s224-103.15 224-230.4c0-53.27-51.98-163.14-124.44-230.4zm-19.47 340.65C282.43 407.01 255.72 416 226.86 416 154.71 416 96 368.26 96 290.75c0-38.61 24.31-72.63 72.79-130.75 6.93 7.98 98.83 125.34 98.83 125.34l58.63-66.88c4.14 6.85 7.91 13.55 11.27 19.97 27.35 52.19 15.81 118.97-33.43 153.42z\"></path></svg></span><span class=\"gb-headline-text\"><a rel=\"noreferrer noopener\" href=\"https://freeupscmaterials.org/vision-ias-gs1-complete-materials-pdf/\" target=\"_blank\">Vision IAS GS1 Complete Materials PDF</a></span></p><p class=\"gb-headline gb-headline-c7926e06\"><span class=\"gb-icon\"><svg aria-hidden=\"true\" role=\"img\" height=\"1em\" width=\"1em\" viewBox=\"0 0 448 512\" xmlns=\"http://www.w3.org/2000/svg\"><path fill=\"currentColor\" d=\"M323.56 51.2c-20.8 19.3-39.58 39.59-56.22 59.97C240.08 73.62 206.28 35.53 168 0 69.74 91.17 0 209.96 0 281.6 0 408.85 100.29 512 224 512s224-103.15 224-230.4c0-53.27-51.98-163.14-124.44-230.4zm-19.47 340.65C282.43 407.01 255.72 416 226.86 416 154.71 416 96 368.26 96 290.75c0-38.61 24.31-72.63 72.79-130.75 6.93 7.98 98.83 125.34 98.83 125.34l58.63-66.88c4.14 6.85 7.91 13.55 11.27 19.97 27.35 52.19 15.81 118.97-33.43 153.42z\"></path></svg></span><span class=\"gb-headline-text\"><a rel=\"noreferrer noopener\" href=\"https://freeupscmaterials.org/vision-ias-gs2-complete-materials-pdf/\" target=\"_blank\">Vision IAS GS2 Complete Materials PDF</a></span></p><p class=\"gb-headline gb-headline-254eb0ba\"><span class=\"gb-icon\"><svg aria-hidden=\"true\" role=\"img\" height=\"1em\" width=\"1em\" viewBox=\"0 0 448 512\" xmlns=\"http://www.w3.org/2000/svg\"><path fill=\"currentColor\" d=\"M323.56 51.2c-20.8 19.3-39.58 39.59-56.22 59.97C240.08 73.62 206.28 35.53 168 0 69.74 91.17 0 209.96 0 281.6 0 408.85 100.29 512 224 512s224-103.15 224-230.4c0-53.27-51.98-163.14-124.44-230.4zm-19.47 340.65C282.43 407.01 255.72 416 226.86 416 154.71 416 96 368.26 96 290.75c0-38.61 24.31-72.63 72.79-130.75 6.93 7.98 98.83 125.34 98.83 125.34l58.63-66.88c4.14 6.85 7.91 13.55 11.27 19.97 27.35 52.19 15.81 118.97-33.43 153.42z\"></path></svg></span><span class=\"gb-headline-text\"><a rel=\"noreferrer noopener\" href=\"https://freeupscmaterials.org/vision-ias-gs3-complete-materials-pdf/\" target=\"_blank\">Vision IAS GS3 Complete Materials PDF</a></span></p><p class=\"gb-headline gb-headline-f1794d07\"><span class=\"gb-icon\"><svg aria-hidden=\"true\" role=\"img\" height=\"1em\" width=\"1em\" viewBox=\"0 0 448 512\" xmlns=\"http://www.w3.org/2000/svg\"><path fill=\"currentColor\" d=\"M323.56 51.2c-20.8 19.3-39.58 39.59-56.22 59.97C240.08 73.62 206.28 35.53 168 0 69.74 91.17 0 209.96 0 281.6 0 408.85 100.29 512 224 512s224-103.15 224-230.4c0-53.27-51.98-163.14-124.44-230.4zm-19.47 340.65C282.43 407.01 255.72 416 226.86 416 154.71 416 96 368.26 96 290.75c0-38.61 24.31-72.63 72.79-130.75 6.93 7.98 98.83 125.34 98.83 125.34l58.63-66.88c4.14 6.85 7.91 13.55 11.27 19.97 27.35 52.19 15.81 118.97-33.43 153.42z\"></path></svg></span><span class=\"gb-headline-text\"><a rel=\"noreferrer noopener\" href=\"https://freeupscmaterials.org/vision-ias-gs4-complete-materials-pdf/\" target=\"_blank\">Vision IAS GS4 Complete Materials PDF</a></span></p></div></div></div></aside></div></div><div class=\"widget-area sidebar is-right-sidebar grid-25 tablet-grid-25 grid-parent\" id=\"right-sidebar\"><div class=\"inside-right-sidebar\"><aside id=\"block-51\" class=\"widget inner-padding widget_block\"><h2 class=\"widget-title\">Support for the Cause</h2><div class=\"wp-widget-group__inner-blocks\"><div class=\"gb-container gb-container-959b5236\"><p></p></div></div></aside><aside id=\"search-3\" class=\"widget inner-padding widget_search\"><h2 class=\"widget-title\">Search</h2><form method=\"get\" class=\"search-form\" action=\"https://freeupscmaterials.org/\"><label><span class=\"screen-reader-text\">Search for:</span><input type=\"search\" class=\"search-field\" placeholder=\"Search …\" value=\"\" name=\"s\" title=\"Search for:\"></label><input type=\"submit\" class=\"search-submit\" value=\"Search\"></form></aside><aside id=\"block-43\" class=\"widget inner-padding widget_block\"><div class=\"gb-container gb-container-b3769409\"><div class=\"gb-inside-container\"><div class=\"gb-container gb-container-78bdebfb\"><div class=\"gb-inside-container\"><p></p><div class=\"jetpack_subscription_widget\"><h2 class=\"widgettitle\">Get Daily Updates via Email !</h2><div class=\"wp-block-jetpack-subscriptions__container\"><form action=\"#\" method=\"post\" accept-charset=\"utf-8\" id=\"subscribe-blog-3\" data-blog=\"135296872\" data-post_access_level=\"everybody\"><p id=\"subscribe-email\"><label id=\"jetpack-subscribe-label\" class=\"screen-reader-text\" for=\"subscribe-field-3\">Email Address</label><input type=\"email\" name=\"email\" required=\"required\" value=\"\" id=\"subscribe-field-3\" placeholder=\"Email Address\"></p><p id=\"subscribe-submit\"><input type=\"hidden\" name=\"action\" value=\"subscribe\"><input type=\"hidden\" name=\"source\" value=\"https://freeupscmaterials.org/vision-ias-complete-study-materials/\"><input type=\"hidden\" name=\"sub-type\" value=\"widget\"><input type=\"hidden\" name=\"redirect_fragment\" value=\"subscribe-blog-3\"><input type=\"hidden\" id=\"_wpnonce\" name=\"_wpnonce\" value=\"f3fc3894cb\"><input type=\"hidden\" name=\"_wp_http_referer\" value=\"/vision-ias-complete-study-materials/\"><button type=\"submit\" class=\"wp-block-button__link\" style=\"margin: 0px; margin-left: 0px;\" name=\"jetpack_subscriptions_widget\">Subscribe Now</button></p></form></div></div></div></div></div></div></aside><aside id=\"block-42\" class=\"widget inner-padding widget_block\"><div class=\"gb-container gb-container-1ff2d1f0\"><div class=\"gb-inside-container\"><div class=\"gb-container gb-container-e091fb4b\"><div class=\"gb-inside-container\"><h2 class=\"widget-title\">Recent Articles</h2><div class=\"wp-widget-group__inner-blocks\"><div class=\"gb-container gb-container-7de3f9f1\"><div class=\"gb-inside-container\"><ul class=\"wp-block-latest-posts__list has-dates wp-block-latest-posts\"><li><a class=\"wp-block-latest-posts__post-title\" href=\"https://freeupscmaterials.org/vision-ias-prelims-2024-abhyaas-test-1-csat-with-solutions-pdf/\">Vision IAS Prelims 2024 Abhyaas Test 1 CSAT with Solutions PDF</a><time datetime=\"2024-04-27T20:45:14+05:30\" class=\"wp-block-latest-posts__post-date\">April 27, 2024</time></li><li><a class=\"wp-block-latest-posts__post-title\" href=\"https://freeupscmaterials.org/vision-ias-prelims-2024-abhyaas-test-1-csat-hindi-medium-pdf/\">Vision IAS Prelims 2024 Abhyaas Test 1 CSAT Hindi Medium PDF</a><time datetime=\"2024-04-27T20:44:41+05:30\" class=\"wp-block-latest-posts__post-date\">April 27, 2024</time></li><li><a class=\"wp-block-latest-posts__post-title\" href=\"https://freeupscmaterials.org/vision-ias-prelims-2024-abhyaas-test-1-with-solutions-pdf/\">Vision IAS Prelims 2024 Abhyaas Test 1 with Solutions PDF</a><time datetime=\"2024-04-27T19:10:14+05:30\" class=\"wp-block-latest-posts__post-date\">April 27, 2024</time></li><li><a class=\"wp-block-latest-posts__post-title\" href=\"https://freeupscmaterials.org/vision-ias-prelims-2024-abhyaas-test-1-hindi-medium-pdf/\">Vision IAS Prelims 2024 Abhyaas Test 1 Hindi Medium PDF</a><time datetime=\"2024-04-27T19:09:07+05:30\" class=\"wp-block-latest-posts__post-date\">April 27, 2024</time></li><li><a class=\"wp-block-latest-posts__post-title\" href=\"https://freeupscmaterials.org/vision-ias-prelims-2024-test-35-with-solutions-pdf-flt-10/\">Vision IAS Prelims 2024 Test 35 with Solutions PDF [FLT-10] [All Complete]</a><time datetime=\"2024-04-25T20:57:30+05:30\" class=\"wp-block-latest-posts__post-date\">April 25, 2024</time></li><li><a class=\"wp-block-latest-posts__post-title\" href=\"https://freeupscmaterials.org/vision-ias-prelims-2024-test-34-with-solutions-pdf-yearbook/\">Vision IAS Prelims 2024 Test 34 with Solutions PDF [Yearbook]</a><time datetime=\"2024-04-24T22:17:56+05:30\" class=\"wp-block-latest-posts__post-date\">April 24, 2024</time></li><li><a class=\"wp-block-latest-posts__post-title\" href=\"https://freeupscmaterials.org/upsc-civil-services-2023-final-results/\">UPSC Civil Services 2023 Final Results Out, Download Topper List</a><time datetime=\"2024-04-16T13:26:16+05:30\" class=\"wp-block-latest-posts__post-date\">April 16, 2024</time></li><li><a class=\"wp-block-latest-posts__post-title\" href=\"https://freeupscmaterials.org/vision-ias-prelims-2024-test-33-with-solutions-pdf-flt-9/\">Vision IAS Prelims 2024 Test 33 with Solutions PDF [FLT-9]</a><time datetime=\"2024-04-15T10:11:19+05:30\" class=\"wp-block-latest-posts__post-date\">April 15, 2024</time></li></ul></div></div></div></div></div></div></div></aside><aside id=\"block-44\" class=\"widget inner-padding widget_block\"><h2 class=\"widget-title\">Trending Books</h2><div class=\"wp-widget-group__inner-blocks\"><div class=\"gb-container gb-container-91a7787e\"><div class=\"gb-inside-container\"><p class=\"gb-headline gb-headline-d3f03f80\"><span class=\"gb-icon\"><svg viewBox=\"0 0 16 16\" class=\"bi bi-arrow-right-circle-fill\" fill=\"currentColor\" height=\"16\" width=\"16\" xmlns=\"http://www.w3.org/2000/svg\"> <path d=\"M8 0a8 8 0 1 1 0 16A8 8 0 0 1 8 0zM4.5 7.5a.5.5 0 0 0 0 1h5.793l-2.147 2.146a.5.5 0 0 0 .708.708l3-3a.5.5 0 0 0 0-.708l-3-3a.5.5 0 1 0-.708.708L10.293 7.5H4.5z\"></path></svg></span><span class=\"gb-headline-text\"><a href=\"https://freeupscmaterials.org/upsc-previous-papers-solved-mcq-by-disha-publication-pdf/\" target=\"_blank\" rel=\"noreferrer noopener\">26 Years Disha Solved Papers 11th Edition PDF</a></span></p><p class=\"gb-headline gb-headline-d3f03f80\"><span class=\"gb-icon\"><svg viewBox=\"0 0 16 16\" class=\"bi bi-arrow-right-circle-fill\" fill=\"currentColor\" height=\"16\" width=\"16\" xmlns=\"http://www.w3.org/2000/svg\"> <path d=\"M8 0a8 8 0 1 1 0 16A8 8 0 0 1 8 0zM4.5 7.5a.5.5 0 0 0 0 1h5.793l-2.147 2.146a.5.5 0 0 0 .708.708l3-3a.5.5 0 0 0 0-.708l-3-3a.5.5 0 1 0-.708.708L10.293 7.5H4.5z\"></path></svg></span><span class=\"gb-headline-text\"><a href=\"https://freeupscmaterials.org/a-brief-history-of-modern-india-by-rajiv-ahir-spectrum-new-edition-pdf/\" target=\"_blank\" rel=\"noreferrer noopener\">A Brief History of Modern India Spectrum 2023 PDF</a></span></p><p class=\"gb-headline gb-headline-d3f03f80\"><span class=\"gb-icon\"><svg viewBox=\"0 0 16 16\" class=\"bi bi-arrow-right-circle-fill\" fill=\"currentColor\" height=\"16\" width=\"16\" xmlns=\"http://www.w3.org/2000/svg\"> <path d=\"M8 0a8 8 0 1 1 0 16A8 8 0 0 1 8 0zM4.5 7.5a.5.5 0 0 0 0 1h5.793l-2.147 2.146a.5.5 0 0 0 .708.708l3-3a.5.5 0 0 0 0-.708l-3-3a.5.5 0 1 0-.708.708L10.293 7.5H4.5z\"></path></svg></span><span class=\"gb-headline-text\"><a href=\"https://freeupscmaterials.org/shankar-ias-environment-8th-edition-pdf/\" target=\"_blank\" rel=\"noreferrer noopener\">Shankar IAS Environment 8th Edition PDF</a></span></p><p class=\"gb-headline gb-headline-d3f03f80\"><span class=\"gb-icon\"><svg viewBox=\"0 0 16 16\" class=\"bi bi-arrow-right-circle-fill\" fill=\"currentColor\" height=\"16\" width=\"16\" xmlns=\"http://www.w3.org/2000/svg\"> <path d=\"M8 0a8 8 0 1 1 0 16A8 8 0 0 1 8 0zM4.5 7.5a.5.5 0 0 0 0 1h5.793l-2.147 2.146a.5.5 0 0 0 .708.708l3-3a.5.5 0 0 0 0-.708l-3-3a.5.5 0 1 0-.708.708L10.293 7.5H4.5z\"></path></svg></span><span class=\"gb-headline-text\"><a rel=\"noreferrer noopener\" href=\"https://freeupscmaterials.org/oxford-school-atlas-pdf/\" target=\"_blank\"></a><a href=\"https://freeupscmaterials.org/oxford-school-atlas-pdf/\" target=\"_blank\" rel=\"noreferrer noopener\">Oxford School ATLAS PDF</a></span></p><p class=\"gb-headline gb-headline-d3f03f80\"><span class=\"gb-icon\"><svg viewBox=\"0 0 16 16\" class=\"bi bi-arrow-right-circle-fill\" fill=\"currentColor\" height=\"16\" width=\"16\" xmlns=\"http://www.w3.org/2000/svg\"> <path d=\"M8 0a8 8 0 1 1 0 16A8 8 0 0 1 8 0zM4.5 7.5a.5.5 0 0 0 0 1h5.793l-2.147 2.146a.5.5 0 0 0 .708.708l3-3a.5.5 0 0 0 0-.708l-3-3a.5.5 0 1 0-.708.708L10.293 7.5H4.5z\"></path></svg></span><span class=\"gb-headline-text\"><a rel=\"noreferrer noopener\" href=\"https://freeupscmaterials.org/gc-leong-certificate-physical-and-human-geography-new-latest-edition-pdf/\" target=\"_blank\"></a><a href=\"https://freeupscmaterials.org/gc-leong-certificate-physical-and-human-geography-new-latest-edition-pdf/\" target=\"_blank\" rel=\"noreferrer noopener\">GC Leong Certificate Physical and Human Geography</a></span></p><p class=\"gb-headline gb-headline-d3f03f80\"><span class=\"gb-icon\"><svg viewBox=\"0 0 16 16\" class=\"bi bi-arrow-right-circle-fill\" fill=\"currentColor\" height=\"16\" width=\"16\" xmlns=\"http://www.w3.org/2000/svg\"> <path d=\"M8 0a8 8 0 1 1 0 16A8 8 0 0 1 8 0zM4.5 7.5a.5.5 0 0 0 0 1h5.793l-2.147 2.146a.5.5 0 0 0 .708.708l3-3a.5.5 0 0 0 0-.708l-3-3a.5.5 0 1 0-.708.708L10.293 7.5H4.5z\"></path></svg></span><span class=\"gb-headline-text\"><a rel=\"noreferrer noopener\" href=\"https://freeupscmaterials.org/ethics-integrity-and-aptitude-by-lexicon-pdf/\" target=\"_blank\"></a><a href=\"https://freeupscmaterials.org/ethics-integrity-and-aptitude-by-lexicon-pdf/\" target=\"_blank\" rel=\"noreferrer noopener\">Lexicon Ethics PDF</a></span></p><p class=\"gb-headline gb-headline-d3f03f80\"><span class=\"gb-icon\"><svg viewBox=\"0 0 16 16\" class=\"bi bi-arrow-right-circle-fill\" fill=\"currentColor\" height=\"16\" width=\"16\" xmlns=\"http://www.w3.org/2000/svg\"> <path d=\"M8 0a8 8 0 1 1 0 16A8 8 0 0 1 8 0zM4.5 7.5a.5.5 0 0 0 0 1h5.793l-2.147 2.146a.5.5 0 0 0 .708.708l3-3a.5.5 0 0 0 0-.708l-3-3a.5.5 0 1 0-.708.708L10.293 7.5H4.5z\"></path></svg></span><span class=\"gb-headline-text\"><a href=\"https://freeupscmaterials.org/mastering-modern-world-history-by-norman-lowe-pdf/\" target=\"_blank\" rel=\"noreferrer noopener\">Mastering Modern World History by Norman Lowe PDF</a></span></p><p class=\"gb-headline gb-headline-d3f03f80\"><span class=\"gb-icon\"><svg viewBox=\"0 0 16 16\" class=\"bi bi-arrow-right-circle-fill\" fill=\"currentColor\" height=\"16\" width=\"16\" xmlns=\"http://www.w3.org/2000/svg\"> <path d=\"M8 0a8 8 0 1 1 0 16A8 8 0 0 1 8 0zM4.5 7.5a.5.5 0 0 0 0 1h5.793l-2.147 2.146a.5.5 0 0 0 .708.708l3-3a.5.5 0 0 0 0-.708l-3-3a.5.5 0 1 0-.708.708L10.293 7.5H4.5z\"></path></svg></span><span class=\"gb-headline-text\"><a rel=\"noreferrer noopener\" href=\"https://freeupscmaterials.org/mastering-modern-world-history-by-norman-lowe-pdf/\" target=\"_blank\"></a><a href=\"https://freeupscmaterials.org/a-new-look-at-modern-indian-history-by-b-l-grover-pdf/\" target=\"_blank\" rel=\"noreferrer noopener\">A New Look at Modern Indian History by B.L Grover PDF</a></span></p><p class=\"gb-headline gb-headline-d3f03f80\"><span class=\"gb-icon\"><svg viewBox=\"0 0 16 16\" class=\"bi bi-arrow-right-circle-fill\" fill=\"currentColor\" height=\"16\" width=\"16\" xmlns=\"http://www.w3.org/2000/svg\"> <path d=\"M8 0a8 8 0 1 1 0 16A8 8 0 0 1 8 0zM4.5 7.5a.5.5 0 0 0 0 1h5.793l-2.147 2.146a.5.5 0 0 0 .708.708l3-3a.5.5 0 0 0 0-.708l-3-3a.5.5 0 1 0-.708.708L10.293 7.5H4.5z\"></path></svg></span><span class=\"gb-headline-text\"><a rel=\"noreferrer noopener\" href=\"https://freeupscmaterials.org/mastering-modern-world-history-by-norman-lowe-pdf/\" target=\"_blank\"></a><a href=\"https://freeupscmaterials.org/a-new-look-at-modern-indian-history-by-b-l-grover-pdf/\"></a><a href=\"https://freeupscmaterials.org/political-theory-by-op-gauba-pdf/\" target=\"_blank\" rel=\"noreferrer noopener\">Political Theory by OP Gauba PDF</a></span></p><p class=\"gb-headline gb-headline-d3f03f80\"><span class=\"gb-icon\"><svg viewBox=\"0 0 16 16\" class=\"bi bi-arrow-right-circle-fill\" fill=\"currentColor\" height=\"16\" width=\"16\" xmlns=\"http://www.w3.org/2000/svg\"> <path d=\"M8 0a8 8 0 1 1 0 16A8 8 0 0 1 8 0zM4.5 7.5a.5.5 0 0 0 0 1h5.793l-2.147 2.146a.5.5 0 0 0 .708.708l3-3a.5.5 0 0 0 0-.708l-3-3a.5.5 0 1 0-.708.708L10.293 7.5H4.5z\"></path></svg></span><span class=\"gb-headline-text\"><a rel=\"noreferrer noopener\" href=\"https://freeupscmaterials.org/mastering-modern-world-history-by-norman-lowe-pdf/\" target=\"_blank\"></a><a href=\"https://freeupscmaterials.org/a-new-look-at-modern-indian-history-by-b-l-grover-pdf/\"></a><a href=\"https://freeupscmaterials.org/political-theory-by-op-gauba-pdf/\"></a><a href=\"https://freeupscmaterials.org/plassey-to-partition-by-sekhar-bandyopadhyay-pdf/\" target=\"_blank\" rel=\"noreferrer noopener\">Plassey to Partition by Sekhar Bandyopadhyay PDF</a></span></p><p class=\"gb-headline gb-headline-d3f03f80\"><span class=\"gb-icon\"><svg viewBox=\"0 0 16 16\" class=\"bi bi-arrow-right-circle-fill\" fill=\"currentColor\" height=\"16\" width=\"16\" xmlns=\"http://www.w3.org/2000/svg\"> <path d=\"M8 0a8 8 0 1 1 0 16A8 8 0 0 1 8 0zM4.5 7.5a.5.5 0 0 0 0 1h5.793l-2.147 2.146a.5.5 0 0 0 .708.708l3-3a.5.5 0 0 0 0-.708l-3-3a.5.5 0 1 0-.708.708L10.293 7.5H4.5z\"></path></svg></span><span class=\"gb-headline-text\"><a href=\"https://freeupscmaterials.org/india-after-gandhi-by-ramachandra-guha-pdf/\" target=\"_blank\" rel=\"noreferrer noopener\">India After Gandhi by Ramachandra Guha PDF</a></span></p><p class=\"gb-headline gb-headline-d3f03f80\"><span class=\"gb-icon\"><svg viewBox=\"0 0 16 16\" class=\"bi bi-arrow-right-circle-fill\" fill=\"currentColor\" height=\"16\" width=\"16\" xmlns=\"http://www.w3.org/2000/svg\"> <path d=\"M8 0a8 8 0 1 1 0 16A8 8 0 0 1 8 0zM4.5 7.5a.5.5 0 0 0 0 1h5.793l-2.147 2.146a.5.5 0 0 0 .708.708l3-3a.5.5 0 0 0 0-.708l-3-3a.5.5 0 1 0-.708.708L10.293 7.5H4.5z\"></path></svg></span><span class=\"gb-headline-text\"><a rel=\"noreferrer noopener\" href=\"https://freeupscmaterials.org/mastering-modern-world-history-by-norman-lowe-pdf/\" target=\"_blank\"></a><a href=\"https://freeupscmaterials.org/a-new-look-at-modern-indian-history-by-b-l-grover-pdf/\"></a><a href=\"https://freeupscmaterials.org/political-theory-by-op-gauba-pdf/\"></a><a href=\"https://freeupscmaterials.org/plassey-to-partition-by-sekhar-bandyopadhyay-pdf/\"></a><a href=\"https://freeupscmaterials.org/india-after-gandhi-by-ramachandra-guha-pdf/\"></a><a href=\"https://freeupscmaterials.org/india-after-independence-by-bipan-chandra3-pdf/\"></a><a href=\"https://freeupscmaterials.org/indian-society-by-sc-dubey/\" target=\"_blank\" rel=\"noreferrer noopener\">Indian Society by SC Dubey PDF</a></span></p><p class=\"gb-headline gb-headline-d3f03f80\"><span class=\"gb-icon\"><svg viewBox=\"0 0 16 16\" class=\"bi bi-arrow-right-circle-fill\" fill=\"currentColor\" height=\"16\" width=\"16\" xmlns=\"http://www.w3.org/2000/svg\"> <path d=\"M8 0a8 8 0 1 1 0 16A8 8 0 0 1 8 0zM4.5 7.5a.5.5 0 0 0 0 1h5.793l-2.147 2.146a.5.5 0 0 0 .708.708l3-3a.5.5 0 0 0 0-.708l-3-3a.5.5 0 1 0-.708.708L10.293 7.5H4.5z\"></path></svg></span><span class=\"gb-headline-text\"><a rel=\"noreferrer noopener\" href=\"https://freeupscmaterials.org/mastering-modern-world-history-by-norman-lowe-pdf/\" target=\"_blank\"></a><a href=\"https://freeupscmaterials.org/a-new-look-at-modern-indian-history-by-b-l-grover-pdf/\"></a><a href=\"https://freeupscmaterials.org/political-theory-by-op-gauba-pdf/\"></a><a href=\"https://freeupscmaterials.org/plassey-to-partition-by-sekhar-bandyopadhyay-pdf/\"></a><a href=\"https://freeupscmaterials.org/india-after-gandhi-by-ramachandra-guha-pdf/\"></a><a href=\"https://freeupscmaterials.org/india-after-independence-by-bipan-chandra3-pdf/\"></a><a href=\"https://freeupscmaterials.org/indian-society-by-sc-dubey/\"></a><a href=\"https://freeupscmaterials.org/social-problems-in-india-by-ram-ahuja7-pdf/\"></a><a href=\"https://freeupscmaterials.org/makers-of-modern-india-by-ramachandra-guha4-pdf/\"></a><a href=\"https://freeupscmaterials.org/handbook-of-indias-international-relations-by-david-scott/\" target=\"_blank\" rel=\"noreferrer noopener\">Handbook of India’s International Relations by David Scott PDF</a></span></p><p class=\"gb-headline gb-headline-d3f03f80\"><span class=\"gb-icon\"><svg viewBox=\"0 0 16 16\" class=\"bi bi-arrow-right-circle-fill\" fill=\"currentColor\" height=\"16\" width=\"16\" xmlns=\"http://www.w3.org/2000/svg\"> <path d=\"M8 0a8 8 0 1 1 0 16A8 8 0 0 1 8 0zM4.5 7.5a.5.5 0 0 0 0 1h5.793l-2.147 2.146a.5.5 0 0 0 .708.708l3-3a.5.5 0 0 0 0-.708l-3-3a.5.5 0 1 0-.708.708L10.293 7.5H4.5z\"></path></svg></span><span class=\"gb-headline-text\"><a rel=\"noreferrer noopener\" href=\"https://freeupscmaterials.org/mastering-modern-world-history-by-norman-lowe-pdf/\" target=\"_blank\"></a><a href=\"https://freeupscmaterials.org/a-new-look-at-modern-indian-history-by-b-l-grover-pdf/\"></a><a href=\"https://freeupscmaterials.org/political-theory-by-op-gauba-pdf/\"></a><a href=\"https://freeupscmaterials.org/plassey-to-partition-by-sekhar-bandyopadhyay-pdf/\"></a><a href=\"https://freeupscmaterials.org/ancient-indian-history-by-rs-sharma-pdf-old-ncert/\" target=\"_blank\" rel=\"noreferrer noopener\">Ancient Indian History by RS Sharma PDF [Old NCERT]</a></span></p><p class=\"gb-headline gb-headline-d3f03f80\"><span class=\"gb-icon\"><svg viewBox=\"0 0 16 16\" class=\"bi bi-arrow-right-circle-fill\" fill=\"currentColor\" height=\"16\" width=\"16\" xmlns=\"http://www.w3.org/2000/svg\"> <path d=\"M8 0a8 8 0 1 1 0 16A8 8 0 0 1 8 0zM4.5 7.5a.5.5 0 0 0 0 1h5.793l-2.147 2.146a.5.5 0 0 0 .708.708l3-3a.5.5 0 0 0 0-.708l-3-3a.5.5 0 1 0-.708.708L10.293 7.5H4.5z\"></path></svg></span><span class=\"gb-headline-text\"><a rel=\"noreferrer noopener\" href=\"https://freeupscmaterials.org/mastering-modern-world-history-by-norman-lowe-pdf/\" target=\"_blank\"></a><a href=\"https://freeupscmaterials.org/a-new-look-at-modern-indian-history-by-b-l-grover-pdf/\"></a><a href=\"https://freeupscmaterials.org/political-theory-by-op-gauba-pdf/\"></a><a href=\"https://freeupscmaterials.org/plassey-to-partition-by-sekhar-bandyopadhyay-pdf/\"></a><a href=\"https://freeupscmaterials.org/ancient-indian-history-by-rs-sharma-pdf-old-ncert/\"></a><a href=\"https://freeupscmaterials.org/medieval-indian-history-by-satish-chandra-pdf-old-ncert/\" target=\"_blank\" rel=\"noreferrer noopener\">Medieval Indian History by Satish Chandra PDF [Old NCERT]</a></span></p><p class=\"gb-headline gb-headline-69974e20\"><span class=\"gb-icon\"><svg viewBox=\"0 0 16 16\" class=\"bi bi-arrow-right-circle-fill\" fill=\"currentColor\" height=\"16\" width=\"16\" xmlns=\"http://www.w3.org/2000/svg\"> <path d=\"M8 0a8 8 0 1 1 0 16A8 8 0 0 1 8 0zM4.5 7.5a.5.5 0 0 0 0 1h5.793l-2.147 2.146a.5.5 0 0 0 .708.708l3-3a.5.5 0 0 0 0-.708l-3-3a.5.5 0 1 0-.708.708L10.293 7.5H4.5z\"></path></svg></span><span class=\"gb-headline-text\"><a rel=\"noreferrer noopener\" href=\"https://freeupscmaterials.org/mastering-modern-world-history-by-norman-lowe-pdf/\" target=\"_blank\"></a><a href=\"https://freeupscmaterials.org/a-new-look-at-modern-indian-history-by-b-l-grover-pdf/\"></a><a href=\"https://freeupscmaterials.org/political-theory-by-op-gauba-pdf/\"></a><a href=\"https://freeupscmaterials.org/plassey-to-partition-by-sekhar-bandyopadhyay-pdf/\"></a><a href=\"https://freeupscmaterials.org/ancient-indian-history-by-rs-sharma-pdf-old-ncert/\"></a><a href=\"https://freeupscmaterials.org/medieval-indian-history-by-satish-chandra-pdf-old-ncert/\"></a><a href=\"https://freeupscmaterials.org/history-of-modern-india-by-bipan-chandra-pdf/\" target=\"_blank\" rel=\"noreferrer noopener\">History of Modern India by Bipan Chandra PDF [Old NCERT]</a></span></p></div></div></div></aside><aside id=\"block-45\" class=\"widget inner-padding widget_block\"><h2 class=\"widget-title\">Beginners Guide for 2023-24 Aspirants</h2><div class=\"wp-widget-group__inner-blocks\"><div class=\"featured-articles\"><ul><li><i class=\"fa fa-chevron-circle-right\" aria-hidden=\"true\"></i> <a title=\"UPSC IAS Prelims Book List and Links\" href=\"https://freeupscmaterials.org/upsc-ias-prelims-book-list-and-links/\" target=\"_blank\" rel=\"noopener\">UPSC IAS Prelims Book List and Links</a></li><li><i class=\"fa fa-chevron-circle-right\" aria-hidden=\"true\"></i> <a title=\"What is the Best Study Material for IAS Exam Preparation?\" href=\"https://freeupscmaterials.org/what-is-the-best-study-material-for-ias-exam-preparation/\" target=\"_blank\" rel=\"noopener\">What is the Best Study Material for IAS Exam Preparation?</a></li><li><i class=\"fa fa-chevron-circle-right\" aria-hidden=\"true\"></i> <a title=\"An Easy Guide for Prelims and Revision Techniques by IRS\" href=\"https://freeupscmaterials.org/an-easy-guide-for-prelims-and-revision-techniques-by-irs/\" target=\"_blank\" rel=\"noopener\">An Easy Guide for Prelims and Revision Techniques by IRS</a></li><li><i class=\"fa fa-chevron-circle-right\" aria-hidden=\"true\"></i> <a title=\"IAS Preparation Tips for Working Professionals\" href=\"https://freeupscmaterials.org/ias-preparation-tips-for-working-professionals/\" target=\"_blank\" rel=\"noopener\">IAS Preparation Tips for Working Professionals</a></li><li><i class=\"fa fa-chevron-circle-right\" aria-hidden=\"true\"></i> <a title=\"My patience and dedication helped me reach my destination; says Nandini KR [AIR 1, CSE 2016]\" href=\"https://freeupscmaterials.org/my-patience-and-dedication-helped-me-reach-my-destination-says-nandini-kr-air-1-cse-2016/\" target=\"_blank\" rel=\"noopener\">My patience and dedication helped me reach my destination; says Nandini KR [AIR 1, CSE 2016]</a></li><li><i class=\"fa fa-chevron-circle-right\" aria-hidden=\"true\"></i> <a title=\"Why right attitude is the single most important thing to clear the exam – by Minal Karanwal IAS\" href=\"https://freeupscmaterials.org/why-right-attitude-is-the-single-most-important-thing-to-clear-the-exam-by-minal-karanwal-ias/\" target=\"_blank\" rel=\"noopener\">Why right attitude is the single most important thing to clear the exam – by Minal Karanwal IAS</a></li><li><i class=\"fa fa-chevron-circle-right\" aria-hidden=\"true\"></i> <a title=\"Fighting Depression in times of UPSC and the endless wait.\" href=\"https://freeupscmaterials.org/fighting-depression-in-times-of-upsc-and-the-endless-wait/\" target=\"_blank\" rel=\"noopener\">Fighting Depression in times of UPSC and the endless wait.</a></li><li><i class=\"fa fa-chevron-circle-right\" aria-hidden=\"true\"></i> <a title=\"Dos and Dont’s of UPSC Prelims\" href=\"https://freeupscmaterials.org/dos-and-donts-of-upsc-prelims/\" target=\"_blank\" rel=\"noopener\">Dos and Dont’s of UPSC Prelims</a></li></ul></div></div></aside><aside id=\"categories-4\" class=\"widget inner-padding widget_categories\"><h2 class=\"widget-title\">Categories</h2><form action=\"https://freeupscmaterials.org\" method=\"get\"><label class=\"screen-reader-text\" for=\"categories-dropdown-4\">Categories</label><select name=\"cat\" id=\"categories-dropdown-4\" class=\"postform\"><option value=\"-1\">Select Category</option><option class=\"level-0\" value=\"2\">Anthropology Optional&nbsp;&nbsp;(4)</option><option class=\"level-0\" value=\"3\">ART &amp; CULTURE&nbsp;&nbsp;(13)</option><option class=\"level-0\" value=\"4\">Audio Lectures&nbsp;&nbsp;(2)</option><option class=\"level-0\" value=\"6\">Coaching Institute Materials&nbsp;&nbsp;(103)</option><option class=\"level-0\" value=\"7\">Current Affairs&nbsp;&nbsp;(1,023)</option><option class=\"level-0\" value=\"8\">CURRENT AFFAIRS MONTHLY MAGAZINES&nbsp;&nbsp;(805)</option><option class=\"level-0\" value=\"9\">DOWNLOAD STANDARD EBOOKS&nbsp;&nbsp;(61)</option><option class=\"level-0\" value=\"10\">ECONOMICS OPTIONAL&nbsp;&nbsp;(83)</option><option class=\"level-0\" value=\"11\">ECONOMY&nbsp;&nbsp;(88)</option><option class=\"level-0\" value=\"12\">ENVIRONMENT &amp; ECOLOGY&nbsp;&nbsp;(11)</option><option class=\"level-0\" value=\"13\">EPW&nbsp;&nbsp;(1)</option><option class=\"level-0\" value=\"14\">ESSAY&nbsp;&nbsp;(45)</option><option class=\"level-0\" value=\"11662\">Ethics&nbsp;&nbsp;(10)</option><option class=\"level-0\" value=\"15\">Feedback about Institutes&nbsp;&nbsp;(2)</option><option class=\"level-0\" value=\"16\">Fine Editorials&nbsp;&nbsp;(28)</option><option class=\"level-0\" value=\"17\">FORESTRY OPTIONAL&nbsp;&nbsp;(2)</option><option class=\"level-0\" value=\"18\">Frontline&nbsp;&nbsp;(3)</option><option class=\"level-0\" value=\"19\">GENERAL SCIENCE&nbsp;&nbsp;(3)</option><option class=\"level-0\" value=\"20\">GEOGRAPHY&nbsp;&nbsp;(10)</option><option class=\"level-0\" value=\"21\">GEOGRAPHY OPTIONAL&nbsp;&nbsp;(15)</option><option class=\"level-0\" value=\"12584\">Governance&nbsp;&nbsp;(1)</option><option class=\"level-0\" value=\"22\">GS-1&nbsp;&nbsp;(23)</option><option class=\"level-0\" value=\"23\">GS-2&nbsp;&nbsp;(24)</option><option class=\"level-0\" value=\"24\">GS-3&nbsp;&nbsp;(25)</option><option class=\"level-0\" value=\"25\">GS-4&nbsp;&nbsp;(15)</option><option class=\"level-0\" value=\"26\">Hindi Medium&nbsp;&nbsp;(92)</option><option class=\"level-0\" value=\"28\">Hindi Medium Test Series&nbsp;&nbsp;(89)</option><option class=\"level-0\" value=\"29\">HISTORY&nbsp;&nbsp;(22)</option><option class=\"level-0\" value=\"30\">HISTORY OPTIONAL&nbsp;&nbsp;(11)</option><option class=\"level-0\" value=\"31\">IGNOU&nbsp;&nbsp;(8)</option><option class=\"level-0\" value=\"3883\">Important Articles&nbsp;&nbsp;(13)</option><option class=\"level-0\" value=\"32\">Important News&nbsp;&nbsp;(103)</option><option class=\"level-0\" value=\"34\">INTERVIEWS&nbsp;&nbsp;(4)</option><option class=\"level-0\" value=\"35\">MAINS&nbsp;&nbsp;(5)</option><option class=\"level-0\" value=\"58\">Mains 2016 Test Series&nbsp;&nbsp;(8)</option><option class=\"level-0\" value=\"59\">Mains 2017 Test Series&nbsp;&nbsp;(35)</option><option class=\"level-0\" value=\"60\">Mains 2018 Test Series&nbsp;&nbsp;(165)</option><option class=\"level-0\" value=\"5844\">Mains 2019 Test Series&nbsp;&nbsp;(199)</option><option class=\"level-0\" value=\"8267\">Mains 2020 Test Series&nbsp;&nbsp;(168)</option><option class=\"level-0\" value=\"12681\">Mains 2021 Test Series&nbsp;&nbsp;(35)</option><option class=\"level-0\" value=\"12748\">Mains 2022 Test Series&nbsp;&nbsp;(154)</option><option class=\"level-0\" value=\"12863\">Mains 2023 Test Series&nbsp;&nbsp;(48)</option><option class=\"level-0\" value=\"12647\">Mains Special&nbsp;&nbsp;(129)</option><option class=\"level-0\" value=\"36\">Mains Test Series&nbsp;&nbsp;(132)</option><option class=\"level-0\" value=\"37\">MATHEMATICS OPTIONAL&nbsp;&nbsp;(12)</option><option class=\"level-0\" value=\"10764\">Motivation Mitra&nbsp;&nbsp;(2)</option><option class=\"level-0\" value=\"12596\">NIOS&nbsp;&nbsp;(1)</option><option class=\"level-0\" value=\"38\">Notifications&nbsp;&nbsp;(47)</option><option class=\"level-0\" value=\"61\">Optional 2017 Test Series&nbsp;&nbsp;(6)</option><option class=\"level-0\" value=\"2967\">Optional 2018 Test Series&nbsp;&nbsp;(60)</option><option class=\"level-0\" value=\"8147\">Optional 2019 Test Series&nbsp;&nbsp;(44)</option><option class=\"level-0\" value=\"8270\">Optional 2020 Test Series&nbsp;&nbsp;(10)</option><option class=\"level-0\" value=\"12774\">Optional 2022 Test Series&nbsp;&nbsp;(21)</option><option class=\"level-0\" value=\"11672\">Optional Materials&nbsp;&nbsp;(1)</option><option class=\"level-0\" value=\"39\">Optional Test Series&nbsp;&nbsp;(115)</option><option class=\"level-0\" value=\"8140\">Other Articles&nbsp;&nbsp;(1)</option><option class=\"level-0\" value=\"40\">PHILOSOPHY OPTIONAL&nbsp;&nbsp;(3)</option><option class=\"level-0\" value=\"42\">POLITICAL SCIENCE OPTIONAL&nbsp;&nbsp;(19)</option><option class=\"level-0\" value=\"43\">POLITY&nbsp;&nbsp;(6)</option><option class=\"level-0\" value=\"62\">Prelims 2015 Test Series&nbsp;&nbsp;(3)</option><option class=\"level-0\" value=\"63\">Prelims 2016 Test Series&nbsp;&nbsp;(8)</option><option class=\"level-0\" value=\"64\">Prelims 2017 Test Series&nbsp;&nbsp;(33)</option><option class=\"level-0\" value=\"65\">Prelims 2018 Test Series&nbsp;&nbsp;(309)</option><option class=\"level-0\" value=\"3087\">Prelims 2019 Test Series&nbsp;&nbsp;(327)</option><option class=\"level-0\" value=\"8154\">Prelims 2020 Test Series&nbsp;&nbsp;(578)</option><option class=\"level-0\" value=\"12092\">Prelims 2021 Test Series&nbsp;&nbsp;(228)</option><option class=\"level-0\" value=\"12705\">Prelims 2022 Test Series&nbsp;&nbsp;(180)</option><option class=\"level-0\" value=\"12743\">Prelims 2023 Test Series&nbsp;&nbsp;(146)</option><option class=\"level-0\" value=\"13000\">Prelims 2024 Test Series&nbsp;&nbsp;(71)</option><option class=\"level-0\" value=\"45\">PRELIMS PAPER – 2 (CSAT)&nbsp;&nbsp;(9)</option><option class=\"level-0\" value=\"46\">PRELIMS PAPER – I (GS)&nbsp;&nbsp;(54)</option><option class=\"level-0\" value=\"47\">PRELIMS PREVIOUS PAPERS&nbsp;&nbsp;(11)</option><option class=\"level-0\" value=\"9286\">Prelims Special&nbsp;&nbsp;(142)</option><option class=\"level-0\" value=\"48\">Prelims Test Series&nbsp;&nbsp;(257)</option><option class=\"level-0\" value=\"49\">Previous Question Papers&nbsp;&nbsp;(121)</option><option class=\"level-0\" value=\"51\">Results&nbsp;&nbsp;(22)</option><option class=\"level-0\" value=\"52\">SOCIOLOGY OPTIONAL&nbsp;&nbsp;(22)</option><option class=\"level-0\" value=\"53\">SSC&nbsp;&nbsp;(5)</option><option class=\"level-0\" value=\"10727\">Success Mantra&nbsp;&nbsp;(8)</option><option class=\"level-0\" value=\"9782\">TMH&nbsp;&nbsp;(4)</option><option class=\"level-0\" value=\"54\">Topper Notes&nbsp;&nbsp;(19)</option><option class=\"level-0\" value=\"1\">Uncategorized&nbsp;&nbsp;(1)</option><option class=\"level-0\" value=\"55\">UPSC&nbsp;&nbsp;(3,517)</option><option class=\"level-0\" value=\"12676\">Yearly Current Affairs Revision&nbsp;&nbsp;(2)</option></select></form><script>(function() {\\nvar dropdown = document.getElementById( \"categories-dropdown-4\" );\\nfunction onCatChange() {\\nif ( dropdown.options[ dropdown.selectedIndex ].value > 0 ) {\\ndropdown.parentNode.submit();\\n}\\n}\\ndropdown.onchange = onCatChange;\\n})();</script></aside><aside id=\"archives-3\" class=\"widget inner-padding widget_archive\"><h2 class=\"widget-title\">Archives</h2><label class=\"screen-reader-text\" for=\"archives-dropdown-3\">Archives</label><select id=\"archives-dropdown-3\" name=\"archive-dropdown\"><option value=\"\">Select Month</option><option value=\"https://freeupscmaterials.org/2024/04/\"> April 2024</option><option value=\"https://freeupscmaterials.org/2024/03/\"> March 2024</option><option value=\"https://freeupscmaterials.org/2024/02/\"> February 2024</option><option value=\"https://freeupscmaterials.org/2024/01/\"> January 2024</option><option value=\"https://freeupscmaterials.org/2023/12/\"> December 2023</option><option value=\"https://freeupscmaterials.org/2023/11/\"> November 2023</option><option value=\"https://freeupscmaterials.org/2023/10/\"> October 2023</option><option value=\"https://freeupscmaterials.org/2023/09/\"> September 2023</option><option value=\"https://freeupscmaterials.org/2023/08/\"> August 2023</option><option value=\"https://freeupscmaterials.org/2023/07/\"> July 2023</option><option value=\"https://freeupscmaterials.org/2023/06/\"> June 2023</option><option value=\"https://freeupscmaterials.org/2023/05/\"> May 2023</option><option value=\"https://freeupscmaterials.org/2023/04/\"> April 2023</option><option value=\"https://freeupscmaterials.org/2023/03/\"> March 2023</option><option value=\"https://freeupscmaterials.org/2023/02/\"> February 2023</option><option value=\"https://freeupscmaterials.org/2023/01/\"> January 2023</option><option value=\"https://freeupscmaterials.org/2022/12/\"> December 2022</option><option value=\"https://freeupscmaterials.org/2022/11/\"> November 2022</option><option value=\"https://freeupscmaterials.org/2022/10/\"> October 2022</option><option value=\"https://freeupscmaterials.org/2022/09/\"> September 2022</option><option value=\"https://freeupscmaterials.org/2022/08/\"> August 2022</option><option value=\"https://freeupscmaterials.org/2022/07/\"> July 2022</option><option value=\"https://freeupscmaterials.org/2022/06/\"> June 2022</option><option value=\"https://freeupscmaterials.org/2022/05/\"> May 2022</option><option value=\"https://freeupscmaterials.org/2022/04/\"> April 2022</option><option value=\"https://freeupscmaterials.org/2022/03/\"> March 2022</option><option value=\"https://freeupscmaterials.org/2022/02/\"> February 2022</option><option value=\"https://freeupscmaterials.org/2022/01/\"> January 2022</option><option value=\"https://freeupscmaterials.org/2021/12/\"> December 2021</option><option value=\"https://freeupscmaterials.org/2021/11/\"> November 2021</option><option value=\"https://freeupscmaterials.org/2021/10/\"> October 2021</option><option value=\"https://freeupscmaterials.org/2021/09/\"> September 2021</option><option value=\"https://freeupscmaterials.org/2021/08/\"> August 2021</option><option value=\"https://freeupscmaterials.org/2021/07/\"> July 2021</option><option value=\"https://freeupscmaterials.org/2021/06/\"> June 2021</option><option value=\"https://freeupscmaterials.org/2021/05/\"> May 2021</option><option value=\"https://freeupscmaterials.org/2021/04/\"> April 2021</option><option value=\"https://freeupscmaterials.org/2021/03/\"> March 2021</option><option value=\"https://freeupscmaterials.org/2021/02/\"> February 2021</option><option value=\"https://freeupscmaterials.org/2021/01/\"> January 2021</option><option value=\"https://freeupscmaterials.org/2020/12/\"> December 2020</option><option value=\"https://freeupscmaterials.org/2020/11/\"> November 2020</option><option value=\"https://freeupscmaterials.org/2020/10/\"> October 2020</option><option value=\"https://freeupscmaterials.org/2020/09/\"> September 2020</option><option value=\"https://freeupscmaterials.org/2020/08/\"> August 2020</option><option value=\"https://freeupscmaterials.org/2020/07/\"> July 2020</option><option value=\"https://freeupscmaterials.org/2020/06/\"> June 2020</option><option value=\"https://freeupscmaterials.org/2020/05/\"> May 2020</option><option value=\"https://freeupscmaterials.org/2020/04/\"> April 2020</option><option value=\"https://freeupscmaterials.org/2020/03/\"> March 2020</option><option value=\"https://freeupscmaterials.org/2020/02/\"> February 2020</option><option value=\"https://freeupscmaterials.org/2020/01/\"> January 2020</option><option value=\"https://freeupscmaterials.org/2019/12/\"> December 2019</option><option value=\"https://freeupscmaterials.org/2019/11/\"> November 2019</option><option value=\"https://freeupscmaterials.org/2019/10/\"> October 2019</option><option value=\"https://freeupscmaterials.org/2019/09/\"> September 2019</option><option value=\"https://freeupscmaterials.org/2019/08/\"> August 2019</option><option value=\"https://freeupscmaterials.org/2019/07/\"> July 2019</option><option value=\"https://freeupscmaterials.org/2019/06/\"> June 2019</option><option value=\"https://freeupscmaterials.org/2019/05/\"> May 2019</option><option value=\"https://freeupscmaterials.org/2019/04/\"> April 2019</option><option value=\"https://freeupscmaterials.org/2019/03/\"> March 2019</option><option value=\"https://freeupscmaterials.org/2019/02/\"> February 2019</option><option value=\"https://freeupscmaterials.org/2019/01/\"> January 2019</option><option value=\"https://freeupscmaterials.org/2018/12/\"> December 2018</option><option value=\"https://freeupscmaterials.org/2018/11/\"> November 2018</option><option value=\"https://freeupscmaterials.org/2018/10/\"> October 2018</option><option value=\"https://freeupscmaterials.org/2018/09/\"> September 2018</option><option value=\"https://freeupscmaterials.org/2018/08/\"> August 2018</option><option value=\"https://freeupscmaterials.org/2018/07/\"> July 2018</option><option value=\"https://freeupscmaterials.org/2018/06/\"> June 2018</option><option value=\"https://freeupscmaterials.org/2018/05/\"> May 2018</option><option value=\"https://freeupscmaterials.org/2018/04/\"> April 2018</option><option value=\"https://freeupscmaterials.org/2018/03/\"> March 2018</option><option value=\"https://freeupscmaterials.org/2018/02/\"> February 2018</option><option value=\"https://freeupscmaterials.org/2018/01/\"> January 2018</option><option value=\"https://freeupscmaterials.org/2017/12/\"> December 2017</option><option value=\"https://freeupscmaterials.org/2017/11/\"> November 2017</option><option value=\"https://freeupscmaterials.org/2017/10/\"> October 2017</option><option value=\"https://freeupscmaterials.org/2017/09/\"> September 2017</option><option value=\"https://freeupscmaterials.org/2017/08/\"> August 2017</option><option value=\"https://freeupscmaterials.org/2017/07/\"> July 2017</option><option value=\"https://freeupscmaterials.org/2017/06/\"> June 2017</option><option value=\"https://freeupscmaterials.org/2017/04/\"> April 2017</option><option value=\"https://freeupscmaterials.org/2017/03/\"> March 2017</option><option value=\"https://freeupscmaterials.org/2017/02/\"> February 2017</option><option value=\"https://freeupscmaterials.org/2017/01/\"> January 2017</option></select><script>(function() {\\nvar dropdown = document.getElementById( \"archives-dropdown-3\" );\\nfunction onSelectChange() {\\nif ( dropdown.options[ dropdown.selectedIndex ].value !== \\'\\' ) {\\ndocument.location.href = this.options[ this.selectedIndex ].value;\\n}\\n}\\ndropdown.onchange = onSelectChange;\\n})();</script></aside><aside id=\"calendar-3\" class=\"widget inner-padding widget_calendar\"><div class=\"calendar_wrap\"><table id=\"wp-calendar\" class=\"wp-calendar-table\"><caption>May 2024</caption><thead><tr><th scope=\"col\" title=\"Monday\">M</th><th scope=\"col\" title=\"Tuesday\">T</th><th scope=\"col\" title=\"Wednesday\">W</th><th scope=\"col\" title=\"Thursday\">T</th><th scope=\"col\" title=\"Friday\">F</th><th scope=\"col\" title=\"Saturday\">S</th><th scope=\"col\" title=\"Sunday\">S</th></tr></thead><tbody><tr><td colspan=\"2\" class=\"pad\">&nbsp;</td><td>1</td><td>2</td><td>3</td><td>4</td><td>5</td></tr><tr><td>6</td><td>7</td><td>8</td><td>9</td><td>10</td><td>11</td><td id=\"today\">12</td></tr><tr><td>13</td><td>14</td><td>15</td><td>16</td><td>17</td><td>18</td><td>19</td></tr><tr><td>20</td><td>21</td><td>22</td><td>23</td><td>24</td><td>25</td><td>26</td></tr><tr><td>27</td><td>28</td><td>29</td><td>30</td><td>31</td><td class=\"pad\" colspan=\"2\">&nbsp;</td></tr></tbody></table><nav aria-label=\"Previous and next months\" class=\"wp-calendar-nav\"><span class=\"wp-calendar-nav-prev\"><a href=\"https://freeupscmaterials.org/2024/04/\">« Apr</a></span><span class=\"pad\">&nbsp;</span><span class=\"wp-calendar-nav-next\">&nbsp;</span></nav></div></aside><aside id=\"tag_cloud-3\" class=\"widget inner-padding widget_tag_cloud\"><h2 class=\"widget-title\">Tags</h2><div class=\"tagcloud\"><a href=\"https://freeupscmaterials.org/tag/2017/\" class=\"tag-cloud-link tag-link-81 tag-link-position-1\" style=\"font-size: 8.958904109589pt;\" aria-label=\"2017 (82 items)\">2017</a><a href=\"https://freeupscmaterials.org/tag/2018/\" class=\"tag-cloud-link tag-link-83 tag-link-position-2\" style=\"font-size: 16.630136986301pt;\" aria-label=\"2018 (528 items)\">2018</a><a href=\"https://freeupscmaterials.org/tag/2019/\" class=\"tag-cloud-link tag-link-3088 tag-link-position-3\" style=\"font-size: 17.205479452055pt;\" aria-label=\"2019 (597 items)\">2019</a><a href=\"https://freeupscmaterials.org/tag/2020/\" class=\"tag-cloud-link tag-link-8155 tag-link-position-4\" style=\"font-size: 18.356164383562pt;\" aria-label=\"2020 (785 items)\">2020</a><a href=\"https://freeupscmaterials.org/tag/2021/\" class=\"tag-cloud-link tag-link-12093 tag-link-position-5\" style=\"font-size: 14.13698630137pt;\" aria-label=\"2021 (285 items)\">2021</a><a href=\"https://freeupscmaterials.org/tag/2022/\" class=\"tag-cloud-link tag-link-12706 tag-link-position-6\" style=\"font-size: 15.095890410959pt;\" aria-label=\"2022 (359 items)\">2022</a><a href=\"https://freeupscmaterials.org/tag/2023/\" class=\"tag-cloud-link tag-link-12744 tag-link-position-7\" style=\"font-size: 12.890410958904pt;\" aria-label=\"2023 (214 items)\">2023</a><a href=\"https://freeupscmaterials.org/tag/2024/\" class=\"tag-cloud-link tag-link-13001 tag-link-position-8\" style=\"font-size: 8.3835616438356pt;\" aria-label=\"2024 (71 items)\">2024</a><a href=\"https://freeupscmaterials.org/tag/csat-test-series/\" class=\"tag-cloud-link tag-link-9428 tag-link-position-9\" style=\"font-size: 8pt;\" aria-label=\"CSAT Test Series (65 items)\">CSAT Test Series</a><a href=\"https://freeupscmaterials.org/tag/current-affairs/\" class=\"tag-cloud-link tag-link-109 tag-link-position-10\" style=\"font-size: 17.109589041096pt;\" aria-label=\"Current Affairs (583 items)\">Current Affairs</a><a href=\"https://freeupscmaterials.org/tag/economics-optional/\" class=\"tag-cloud-link tag-link-115 tag-link-position-11\" style=\"font-size: 8.2876712328767pt;\" aria-label=\"ECONOMICS OPTIONAL (69 items)\">ECONOMICS OPTIONAL</a><a href=\"https://freeupscmaterials.org/tag/economy/\" class=\"tag-cloud-link tag-link-116 tag-link-position-12\" style=\"font-size: 9.0547945205479pt;\" aria-label=\"ECONOMY (84 items)\">ECONOMY</a><a href=\"https://freeupscmaterials.org/tag/hindi-medium/\" class=\"tag-cloud-link tag-link-157 tag-link-position-13\" style=\"font-size: 9.0547945205479pt;\" aria-label=\"HINDI MEDIUM (85 items)\">HINDI MEDIUM</a><a href=\"https://freeupscmaterials.org/tag/hindi-medium-prelims-2019-test-series/\" class=\"tag-cloud-link tag-link-3367 tag-link-position-14\" style=\"font-size: 8.5753424657534pt;\" aria-label=\"Hindi Medium Prelims 2019 Test Series (75 items)\">Hindi Medium Prelims 2019 Test Series</a><a href=\"https://freeupscmaterials.org/tag/insight-ias/\" class=\"tag-cloud-link tag-link-178 tag-link-position-15\" style=\"font-size: 16.342465753425pt;\" aria-label=\"Insight IAS (491 items)\">Insight IAS</a><a href=\"https://freeupscmaterials.org/tag/insight-ias-current-affairs/\" class=\"tag-cloud-link tag-link-1369 tag-link-position-16\" style=\"font-size: 10.58904109589pt;\" aria-label=\"Insight IAS Current Affairs (122 items)\">Insight IAS Current Affairs</a><a href=\"https://freeupscmaterials.org/tag/insight-ias-prelims-2020-test-series/\" class=\"tag-cloud-link tag-link-8157 tag-link-position-17\" style=\"font-size: 10.301369863014pt;\" aria-label=\"Insight IAS Prelims 2020 Test Series (115 items)\">Insight IAS Prelims 2020 Test Series</a><a href=\"https://freeupscmaterials.org/tag/mains/\" class=\"tag-cloud-link tag-link-193 tag-link-position-18\" style=\"font-size: 9.9178082191781pt;\" aria-label=\"MAINS (104 items)\">MAINS</a><a href=\"https://freeupscmaterials.org/tag/mains-2018-test-series/\" class=\"tag-cloud-link tag-link-195 tag-link-position-19\" style=\"font-size: 9.6301369863014pt;\" aria-label=\"Mains 2018 Test Series (97 items)\">Mains 2018 Test Series</a><a href=\"https://freeupscmaterials.org/tag/mains-2019-test-series/\" class=\"tag-cloud-link tag-link-5848 tag-link-position-20\" style=\"font-size: 11.931506849315pt;\" aria-label=\"Mains 2019 Test Series (167 items)\">Mains 2019 Test Series</a><a href=\"https://freeupscmaterials.org/tag/mains-2020-test-series/\" class=\"tag-cloud-link tag-link-8268 tag-link-position-21\" style=\"font-size: 11.643835616438pt;\" aria-label=\"Mains 2020 Test Series (158 items)\">Mains 2020 Test Series</a><a href=\"https://freeupscmaterials.org/tag/mains-2022-test-series/\" class=\"tag-cloud-link tag-link-12749 tag-link-position-22\" style=\"font-size: 11.164383561644pt;\" aria-label=\"Mains 2022 Test Series (140 items)\">Mains 2022 Test Series</a><a href=\"https://freeupscmaterials.org/tag/mains-test-series/\" class=\"tag-cloud-link tag-link-196 tag-link-position-23\" style=\"font-size: 17.876712328767pt;\" aria-label=\"Mains Test Series (710 items)\">Mains Test Series</a><a href=\"https://freeupscmaterials.org/tag/no-ads/\" class=\"tag-cloud-link tag-link-7069 tag-link-position-24\" style=\"font-size: 9.3424657534247pt;\" aria-label=\"No Ads (91 items)\">No Ads</a><a href=\"https://freeupscmaterials.org/tag/optional-test-series/\" class=\"tag-cloud-link tag-link-219 tag-link-position-25\" style=\"font-size: 11.260273972603pt;\" aria-label=\"Optional Test Series (142 items)\">Optional Test Series</a><a href=\"https://freeupscmaterials.org/tag/pdf/\" class=\"tag-cloud-link tag-link-221 tag-link-position-26\" style=\"font-size: 10.780821917808pt;\" aria-label=\"pdf (129 items)\">pdf</a><a href=\"https://freeupscmaterials.org/tag/prelims-2019-test-series/\" class=\"tag-cloud-link tag-link-3090 tag-link-position-27\" style=\"font-size: 13.849315068493pt;\" aria-label=\"Prelims 2019 Test Series (271 items)\">Prelims 2019 Test Series</a><a href=\"https://freeupscmaterials.org/tag/prelims-2020-test-series/\" class=\"tag-cloud-link tag-link-8156 tag-link-position-28\" style=\"font-size: 17.013698630137pt;\" aria-label=\"Prelims 2020 Test Series (577 items)\">Prelims 2020 Test Series</a><a href=\"https://freeupscmaterials.org/tag/prelims-2021-test-series/\" class=\"tag-cloud-link tag-link-12095 tag-link-position-29\" style=\"font-size: 13.178082191781pt;\" aria-label=\"Prelims 2021 Test Series (228 items)\">Prelims 2021 Test Series</a><a href=\"https://freeupscmaterials.org/tag/prelims-2022-test-series/\" class=\"tag-cloud-link tag-link-12707 tag-link-position-30\" style=\"font-size: 12.219178082192pt;\" aria-label=\"Prelims 2022 Test Series (180 items)\">Prelims 2022 Test Series</a><a href=\"https://freeupscmaterials.org/tag/prelims-2023-test-series/\" class=\"tag-cloud-link tag-link-12745 tag-link-position-31\" style=\"font-size: 11.356164383562pt;\" aria-label=\"Prelims 2023 Test Series (146 items)\">Prelims 2023 Test Series</a><a href=\"https://freeupscmaterials.org/tag/prelims-2024-test-series/\" class=\"tag-cloud-link tag-link-13003 tag-link-position-32\" style=\"font-size: 8.3835616438356pt;\" aria-label=\"Prelims 2024 Test Series (71 items)\">Prelims 2024 Test Series</a><a href=\"https://freeupscmaterials.org/tag/prelims-test-series/\" class=\"tag-cloud-link tag-link-235 tag-link-position-33\" style=\"font-size: 21.904109589041pt;\" aria-label=\"Prelims Test Series (1,877 items)\">Prelims Test Series</a><a href=\"https://freeupscmaterials.org/tag/raus-ias/\" class=\"tag-cloud-link tag-link-7531 tag-link-position-34\" style=\"font-size: 10.013698630137pt;\" aria-label=\"Raus IAS (107 items)\">Raus IAS</a><a href=\"https://freeupscmaterials.org/tag/raus-ias-focus/\" class=\"tag-cloud-link tag-link-7532 tag-link-position-35\" style=\"font-size: 8.2876712328767pt;\" aria-label=\"Raus IAS Focus (70 items)\">Raus IAS Focus</a><a href=\"https://freeupscmaterials.org/tag/shankar-ias/\" class=\"tag-cloud-link tag-link-252 tag-link-position-36\" style=\"font-size: 15.958904109589pt;\" aria-label=\"Shankar IAS (450 items)\">Shankar IAS</a><a href=\"https://freeupscmaterials.org/tag/test-series/\" class=\"tag-cloud-link tag-link-263 tag-link-position-37\" style=\"font-size: 22pt;\" aria-label=\"Test Series (1,918 items)\">Test Series</a><a href=\"https://freeupscmaterials.org/tag/vision/\" class=\"tag-cloud-link tag-link-274 tag-link-position-38\" style=\"font-size: 13.369863013699pt;\" aria-label=\"VISION (237 items)\">VISION</a><a href=\"https://freeupscmaterials.org/tag/vision-365/\" class=\"tag-cloud-link tag-link-275 tag-link-position-39\" style=\"font-size: 10.58904109589pt;\" aria-label=\"Vision 365 (122 items)\">Vision 365</a><a href=\"https://freeupscmaterials.org/tag/vision-ias-365/\" class=\"tag-cloud-link tag-link-1157 tag-link-position-40\" style=\"font-size: 10.397260273973pt;\" aria-label=\"Vision IAS 365 (116 items)\">Vision IAS 365</a><a href=\"https://freeupscmaterials.org/tag/vision-ias-mains-2020-test-series/\" class=\"tag-cloud-link tag-link-8278 tag-link-position-41\" style=\"font-size: 8.3835616438356pt;\" aria-label=\"Vision IAS Mains 2020 Test Series (71 items)\">Vision IAS Mains 2020 Test Series</a><a href=\"https://freeupscmaterials.org/tag/vision-ias-mains-2022-test-series/\" class=\"tag-cloud-link tag-link-12752 tag-link-position-42\" style=\"font-size: 8.2876712328767pt;\" aria-label=\"Vision IAS Mains 2022 Test Series (70 items)\">Vision IAS Mains 2022 Test Series</a><a href=\"https://freeupscmaterials.org/tag/vision-ias-monthly-ca/\" class=\"tag-cloud-link tag-link-2855 tag-link-position-43\" style=\"font-size: 8.2876712328767pt;\" aria-label=\"Vision IAS Monthly CA (69 items)\">Vision IAS Monthly CA</a><a href=\"https://freeupscmaterials.org/tag/vision-mains-365/\" class=\"tag-cloud-link tag-link-277 tag-link-position-44\" style=\"font-size: 9.6301369863014pt;\" aria-label=\"Vision Mains 365 (96 items)\">Vision Mains 365</a><a href=\"https://freeupscmaterials.org/tag/vsn-ias/\" class=\"tag-cloud-link tag-link-276 tag-link-position-45\" style=\"font-size: 17.205479452055pt;\" aria-label=\"VSN IAS (604 items)\">VSN IAS</a></div></aside></div></div></div></div><div class=\"site-footer\"><footer class=\"site-info\" aria-label=\"Site\" itemtype=\"https://schema.org/WPFooter\" itemscope=\"\"><div class=\"inside-site-info grid-container grid-parent\"><div class=\"copyright-bar\"><p>Copyright © 2023 · <a href=\"https://freeupscmaterials.org/about\" target=\"_blank\" rel=\"noopener\">About Us</a> · <a href=\"https://freeupscmaterials.org/privacy-policy\" target=\"_blank\" rel=\"noopener\">Privacy Policy</a> · <a href=\"https://freeupscmaterials.org/contact\" target=\"_blank\" rel=\"noopener\">Contact Us</a></p></div></div></footer></div><script id=\"generate-a11y\">!function(){\"use strict\";if(\"querySelector\"in document&&\"addEventListener\"in window){var e=document.body;e.addEventListener(\"mousedown\",function(){e.classList.add(\"using-mouse\")}),e.addEventListener(\"keydown\",function(){e.classList.remove(\"using-mouse\")})}}();</script><!--[if lte IE 11]><script src=\"https://freeupscmaterials.org/wp-content/themes/generatepress/assets/js/classList.min.js?time=1715453392\" id=\"generate-classlist-js\" type=\"cwvpsbdelayedscript\" defer=\"defer\"></script><![endif]--><script id=\"generate-menu-js-extra\">var generatepressMenu = {\"toggleOpenedSubMenus\":\"1\",\"openSubMenuLabel\":\"Open Sub-Menu\",\"closeSubMenuLabel\":\"Close Sub-Menu\"};</script><script id=\"generate-navigation-search-js-extra\">var generatepressNavSearch = {\"open\":\"Open Search Bar\",\"close\":\"Close Search Bar\"};</script><script src=\"https://stats.wp.com/e-202419.js\" id=\"jetpack-stats-js\" data-wp-strategy=\"defer\" defer=\"\"></script><script id=\"jetpack-stats-js-after\">_stq = window._stq || [];\\n_stq.push([ \"view\", JSON.parse(\"{\\\\\"v\\\\\":\\\\\"ext\\\\\",\\\\\"blog\\\\\":\\\\\"135296872\\\\\",\\\\\"post\\\\\":\\\\\"27290\\\\\",\\\\\"tz\\\\\":\\\\\"5.5\\\\\",\\\\\"srv\\\\\":\\\\\"freeupscmaterials.org\\\\\",\\\\\"j\\\\\":\\\\\"1:13.3.1\\\\\"}\") ]);\\n_stq.push([ \"clickTrackerInit\", \"135296872\", \"27290\" ]);</script><script id=\"cwvpsb-delayed-scripts\" data-two-no-delay=\"true\">cwvpsbUserInteractions=[\"keydown\",\"mousemove\",\"wheel\",\"touchmove\",\"touchstart\",\"touchend\",\"touchcancel\",\"touchforcechange\"],cwvpsbDelayedScripts={normal:[],defer:[],async:[],jquery:[]},jQueriesArray=[];var cwvpsbDOMLoaded=!1;\\nfunction cwvpsbTriggerDOMListener(){cwvpsbUserInteractions.forEach(function(e){window.removeEventListener(e,cwvpsbTriggerDOMListener,{passive:!0})}),\"loading\"===document.readyState?document.addEventListener(\"DOMContentLoaded\",cwvpsbTriggerDelayedScripts):cwvpsbTriggerDelayedScripts()}\\nvar time = Date.now;\\nvar ccfw_loaded = false;\\nfunction calculate_load_times() {\\n// Check performance support\\nif (performance === undefined) {\\nconsole.log(\"= Calculate Load Times: performance NOT supported\");\\nreturn;\\n}\\n// Get a list of \"resource\" performance entries\\nvar resources_length=0;\\nvar resources = performance.getEntriesByType(\"resource\");\\nif (resources === undefined || resources.length <= 0) {\\nconsole.log(\"= Calculate Load Times: there are NO `resource` performance records\");\\n}\\nif(resources.length)\\n{\\nresources_length=resources.length;\\n}\\nlet is_last_resource = 0;\\nfor (var i=0; i < resources.length; i++) {\\nif(resources[i].responseEnd>0){\\nis_last_resource = is_last_resource + 1;\\n}\\n}\\nlet uag = navigator.userAgent;\\nlet gpat = /Google Page Speed Insights/gm;\\nlet gres = uag.match(gpat);\\nlet cpat = /Chrome-Lighthouse/gm;\\nlet cres = uag.match(cpat);\\nlet wait_till=300;\\nlet new_ua = \"Mozilla/5.0 (Linux; Android 11; moto g power (2022)) AppleWebKit/537.36 (KHTML, like Gecko) Chrome/109.0.0.0 Mobile Safari/537.36\";\\nif(gres || cres || uag==new_ua){\\nwait_till = 3000;\\n}\\nif(is_last_resource==resources.length){\\nsetTimeout(function(){\\ncwvpsbTriggerDelayedScripts();\\n},wait_till);\\n}\\n}\\nwindow.addEventListener(\"load\", function(e) {\\nconsole.log(\"load complete\");\\nsetTimeout(function(){\\ncalculate_load_times();\\n},800);\\n});\\nasync function cwvpsbTriggerDelayedScripts() {\\nif(ccfw_loaded){ return ;}\\nctl(),cwvpsbDelayEventListeners(), cwvpsbDelayJQueryReady(), cwvpsbProcessDocumentWrite(), cwvpsbSortDelayedScripts(), cwvpsbPreloadDelayedScripts(),await cwvpsbLoadDelayedScripts(cwvpsbDelayedScripts.jquery), await cwvpsbLoadDelayedScripts(cwvpsbDelayedScripts.normal), await cwvpsbLoadDelayedScripts(cwvpsbDelayedScripts.defer), await cwvpsbLoadDelayedScripts(cwvpsbDelayedScripts.async), await cwvpsbTriggerEventListeners()\\n}\\nfunction cwvpsbDelayEventListeners() {\\nlet e = {};\\nfunction t(t, n) {\\nfunction r(n) {\\nreturn e[t].delayedEvents.indexOf(n) >= 0 ? \"cwvpsb-\" + n : n\\n}\\ne[t] || (e[t] = {\\noriginalFunctions: {\\nadd: t.addEventListener,\\nremove: t.removeEventListener\\n},\\ndelayedEvents: []\\n}, t.addEventListener = function() {\\narguments[0] = r(arguments[0]), e[t].originalFunctions.add.apply(t, arguments)\\n}, t.removeEventListener = function() {\\narguments[0] = r(arguments[0]), e[t].originalFunctions.remove.apply(t, arguments)\\n}), e[t].delayedEvents.push(n)\\n}\\nfunction n(e, t) {\\nconst n = e[t];\\nObject.defineProperty(e, t, {\\nget: n || function() {},\\nset: function(n) {\\ne[\"cwvpsb\" + t] = n\\n}\\n})\\n}\\nt(document, \"DOMContentLoaded\"), t(window, \"DOMContentLoaded\"), t(window, \"load\"), t(window, \"pageshow\"), t(document, \"readystatechange\"), n(document, \"onreadystatechange\"), n(window, \"onload\"), n(window, \"onpageshow\")\\n}\\nfunction cwvpsbDelayJQueryReady() {\\nlet e = window.jQuery;\\nObject.defineProperty(window, \"jQuery\", {\\nget: () => e,\\nset(t) {\\nif (t && t.fn && !jQueriesArray.includes(t)) {\\nt.fn.ready = t.fn.init.prototype.ready = function(e) {\\ncwvpsbDOMLoaded ? e.bind(document)(t) : document.addEventListener(\"cwvpsb-DOMContentLoaded\", function() {\\ne.bind(document)(t)\\n})\\n};\\nconst e = t.fn.on;\\nt.fn.on = t.fn.init.prototype.on = function() {\\nif (this[0] === window) {\\nfunction t(e) {\\nreturn e.split(\" \").map(e => \"load\" === e || 0 === e.indexOf(\"load.\") ? \"cwvpsb-jquery-load\" : e).join(\" \")\\n}\\n\"string\" == typeof arguments[0] || arguments[0] instanceof String ? arguments[0] = t(arguments[0]) : \"object\" == typeof arguments[0] && Object.keys(arguments[0]).forEach(function(e) {\\ndelete Object.assign(arguments[0], {\\n[t(e)]: arguments[0][e]\\n})[e]\\n})\\n}\\nreturn e.apply(this, arguments), this\\n}, jQueriesArray.push(t)\\n}\\ne = t\\n}\\n})\\n}\\nfunction cwvpsbProcessDocumentWrite() {\\nconst e = new Map;\\ndocument.write = document.writeln = function(t) {\\nvar n = document.currentScript,\\nr = document.createRange();\\nlet a = e.get(n);\\nvoid 0 === a && (a = n.nextSibling, e.set(n, a));\\nvar o = document.createDocumentFragment();\\nr.setStart(o, 0), o.appendChild(r.createContextualFragment(t)), n.parentElement.insertBefore(o, a)\\n}\\n}\\nfunction cwvpsbSortDelayedScripts() {\\ndocument.querySelectorAll(\"script[type=cwvpsbdelayedscript]\").forEach(function(e) {\\ne.hasAttribute(\"src\")&&(e.getAttribute(\"src\").match(\"jquery.min.js\")||e.getAttribute(\"src\").match(\"jquery-migrate.min.js\"))?cwvpsbDelayedScripts.jquery.push(e):e.hasAttribute(\"src\")?e.hasAttribute(\"defer\")&&!1!==e.defer?cwvpsbDelayedScripts.defer.push(e):e.hasAttribute(\"async\")&&!1!==e.async?cwvpsbDelayedScripts.async.push(e):cwvpsbDelayedScripts.normal.push(e):cwvpsbDelayedScripts.normal.push(e);\\n})\\n}\\n\\nfunction cwvpsbPreloadDelayedScripts() {\\nvar e = document.createDocumentFragment();\\n[...cwvpsbDelayedScripts.normal, ...cwvpsbDelayedScripts.defer, ...cwvpsbDelayedScripts.async].forEach(function(t) {\\nvar n = removeVersionFromLink(t.getAttribute(\"src\"));\\nif (n) {\\nt.setAttribute(\"src\", n);\\nvar r = document.createElement(\"link\");\\nr.href = n, r.rel = \"preload\", r.as = \"script\", e.appendChild(r)\\n}\\n}), document.head.appendChild(e)\\n}\\nasync function cwvpsbLoadDelayedScripts(e) {\\nvar t = e.shift();\\nreturn t ? (await cwvpsbReplaceScript(t), cwvpsbLoadDelayedScripts(e)) : Promise.resolve()\\n}\\nasync function cwvpsbReplaceScript(e) {\\nreturn await cwvpsbNextFrame(), new Promise(function(t) {\\nconst n = document.createElement(\"script\");\\n[...e.attributes].forEach(function(e) {\\nlet t = e.nodeName;\\n\"type\" !== t && (\"data-type\" === t && (t = \"type\"), n.setAttribute(t, e.nodeValue))\\n}), e.hasAttribute(\"src\") ? (n.addEventListener(\"load\", t), n.addEventListener(\"error\", t)) : (n.text = e.text, t()), e.parentNode.replaceChild(n, e)\\n})\\n}\\nfunction ctl(){\\nvar cssEle = document.querySelectorAll(\"link[rel=cwvpsbdelayedstyle]\");\\nfor(var i=0; i <= cssEle.length;i++){\\nif(cssEle[i]){\\ncssEle[i].href = removeVersionFromLink(cssEle[i].href);\\ncssEle[i].rel = \"stylesheet\";\\ncssEle[i].type = \"text/css\";\\n}\\n}\\nvar cssEle = document.querySelectorAll(\"style[type=cwvpsbdelayedstyle]\");\\nfor(var i=0; i <= cssEle.length;i++){\\nif(cssEle[i]){\\ncssEle[i].type = \"text/css\";\\n}\\n}\\nccfw_loaded=true;\\n}\\nfunction removeVersionFromLink(link)\\n{\\nif(cwvpbIsValidUrl(link))\\n{\\nconst url = new URL(cwvpbFormatLink(link));\\nurl.searchParams.delete(\"ver\");\\nurl.searchParams.delete(\"time\");\\nreturn url.href;\\n}\\nreturn link;\\n}\\nfunction cwvpbIsValidUrl(urlString)\\n{\\nif(urlString){\\nvar expression =/[-a-zA-Z0-9@:%_\\\\+.~#?&//=]{2,256}\\\\.[a-z]{2,4}\\\\b(\\\\/[-a-zA-Z0-9@:%_\\\\+.~#?&//=]*)?/gi;\\nvar regex = new RegExp(expression);\\nreturn urlString.match(regex);\\n}\\nreturn false;\\n}\\nfunction cwvpbFormatLink(link)\\n{\\nlet http_check=link.match(\"http:\");\\nlet https_check=link.match(\"https:\");\\nif(!http_check && !https_check)\\n{\\nreturn location.protocol+link;\\n}\\nreturn link;\\n}\\nasync function cwvpsbTriggerEventListeners() {\\ncwvpsbDOMLoaded = !0, await cwvpsbNextFrame(), document.dispatchEvent(new Event(\"cwvpsb-DOMContentLoaded\")), await cwvpsbNextFrame(), window.dispatchEvent(new Event(\"cwvpsb-DOMContentLoaded\")), await cwvpsbNextFrame(), document.dispatchEvent(new Event(\"cwvpsb-readystatechange\")), await cwvpsbNextFrame(), document.cwvpsbonreadystatechange && document.cwvpsbonreadystatechange(), await cwvpsbNextFrame(), window.dispatchEvent(new Event(\"cwvpsb-load\")), await cwvpsbNextFrame(), window.cwvpsbonload && window.cwvpsbonload(), await cwvpsbNextFrame(), jQueriesArray.forEach(function(e) {\\ne(window).trigger(\"cwvpsb-jquery-load\")\\n}), window.dispatchEvent(new Event(\"cwvpsb-pageshow\")), await cwvpsbNextFrame(), window.cwvpsbonpageshow && window.cwvpsbonpageshow()\\n}\\nasync function cwvpsbNextFrame() {\\nreturn new Promise(function(e) {\\nrequestAnimationFrame(e)\\n})\\n}\\ncwvpsbUserInteractions.forEach(function(e) {\\nwindow.addEventListener(e, cwvpsbTriggerDOMListener, {\\npassive: !0\\n})\\n});</script><script defer=\"\" src=\"https://freeupscmaterials.org/wp-content/cache/autoptimize/js/autoptimize_581f4fcaaaf016fa1632e6dc2af74ec2.js\"></script>\\n\\n<img src=\"https://pixel.wp.com/g.gif?v=ext&amp;blog=135296872&amp;post=27290&amp;tz=5.5&amp;srv=freeupscmaterials.org&amp;j=1%3A13.3.1&amp;host=freeupscmaterials.org&amp;ref=&amp;fcp=403&amp;rand=0.9869256484397719\" alt=\"\" width=\"6\" height=\"5\" id=\"wpstats\"></body></html>'"
      ]
     },
     "execution_count": 89,
     "metadata": {},
     "output_type": "execute_result"
    }
   ],
   "source": [
    "driver.page_source"
   ]
  },
  {
   "cell_type": "code",
   "execution_count": 90,
   "id": "647f3365-cb7d-4553-8174-8afe098c54f8",
   "metadata": {},
   "outputs": [],
   "source": [
    "from selenium.webdriver.common.by import By"
   ]
  },
  {
   "cell_type": "code",
   "execution_count": 91,
   "id": "b79ea6dc-cd2d-4cd9-92f4-bf5561f3106f",
   "metadata": {},
   "outputs": [],
   "source": [
    "EBooks_button  = driver.find_element(By.LINK_TEXT,\"E-Books\")\n",
    "EBooks_button.click()"
   ]
  },
  {
   "cell_type": "code",
   "execution_count": 92,
   "id": "813f9b1d-9d0e-44b5-a8f9-b07d63244c16",
   "metadata": {},
   "outputs": [
    {
     "data": {
      "text/plain": [
       "20"
      ]
     },
     "execution_count": 92,
     "metadata": {},
     "output_type": "execute_result"
    }
   ],
   "source": [
    "Coaching_list  = driver.find_elements(By.CLASS_NAME,\"gb-container\")\n",
    "len(Coaching_list)"
   ]
  },
  {
   "cell_type": "code",
   "execution_count": 93,
   "id": "e3c9b8bf-cb50-4dbc-bb85-3cc7bcb4baa1",
   "metadata": {},
   "outputs": [
    {
     "name": "stdout",
     "output_type": "stream",
     "text": [
      "\n",
      "\n",
      "\n",
      "\n",
      "\n",
      "\n",
      "\n",
      "\n",
      "Receive the latest articles in your inbox\n",
      "Email Address\n",
      "Subscribe Now\n",
      "Email Address\n",
      "Subscribe Now\n",
      "Trending Now\n",
      "Vision IAS Prelims 2024 Test 1 with Solutions PDF\n",
      "Vinsion IAS Prelims 2024 Test 10 with Solutions PDF\n",
      "A Brief History of Modern India by Rajiv Ahir Spectrum Publications PDF\n",
      "Vision IAS Indian Economy Material Class Notes 2023 PDF\n",
      "26 Years UPSC Previous Papers Solved MCQ by Disha Publication 11th Edition PDF\n",
      "Ancient Indian History by RS Sharma PDF [Old NCERT]\n",
      "Shankar IAS Environment 8th Edition PDF\n",
      "Vision IAS Prelims 2024 Test 9 with Solutions PDF\n",
      "Vision IAS Prelims 2024 Test 6 with Solutions PDF\n",
      "Vision IAS GS1 Complete Materials PDF\n",
      "Trending Now\n",
      "Vision IAS Prelims 2024 Test 1 with Solutions PDF\n",
      "Vinsion IAS Prelims 2024 Test 10 with Solutions PDF\n",
      "A Brief History of Modern India by Rajiv Ahir Spectrum Publications PDF\n",
      "Vision IAS Indian Economy Material Class Notes 2023 PDF\n",
      "26 Years UPSC Previous Papers Solved MCQ by Disha Publication 11th Edition PDF\n",
      "Ancient Indian History by RS Sharma PDF [Old NCERT]\n",
      "Shankar IAS Environment 8th Edition PDF\n",
      "Vision IAS Prelims 2024 Test 9 with Solutions PDF\n",
      "Vision IAS Prelims 2024 Test 6 with Solutions PDF\n",
      "Vision IAS GS1 Complete Materials PDF\n",
      "Vision Complete Study Materials PDF\n",
      "Download All Standard E-Books for IAS Preparation\n",
      "UPSC IAS Prelims Book List and Links All at one Place\n",
      "Download All UPSC CSE Prelims Test Series at one Place\n",
      "Vision IAS GS1 Complete Materials PDF\n",
      "Vision IAS GS2 Complete Materials PDF\n",
      "Vision IAS GS3 Complete Materials PDF\n",
      "Vision IAS GS4 Complete Materials PDF\n",
      "\n",
      "Get Daily Updates via Email !\n",
      "Email Address\n",
      "Subscribe Now\n",
      "Get Daily Updates via Email !\n",
      "Email Address\n",
      "Subscribe Now\n",
      "Recent Articles\n",
      "Vision IAS Prelims 2024 Abhyaas Test 1 CSAT with Solutions PDF\n",
      "April 27, 2024\n",
      "Vision IAS Prelims 2024 Abhyaas Test 1 CSAT Hindi Medium PDF\n",
      "April 27, 2024\n",
      "Vision IAS Prelims 2024 Abhyaas Test 1 with Solutions PDF\n",
      "April 27, 2024\n",
      "Vision IAS Prelims 2024 Abhyaas Test 1 Hindi Medium PDF\n",
      "April 27, 2024\n",
      "Vision IAS Prelims 2024 Test 35 with Solutions PDF [FLT-10] [All Complete]\n",
      "April 25, 2024\n",
      "Vision IAS Prelims 2024 Test 34 with Solutions PDF [Yearbook]\n",
      "April 24, 2024\n",
      "UPSC Civil Services 2023 Final Results Out, Download Topper List\n",
      "April 16, 2024\n",
      "Vision IAS Prelims 2024 Test 33 with Solutions PDF [FLT-9]\n",
      "April 15, 2024\n",
      "Recent Articles\n",
      "Vision IAS Prelims 2024 Abhyaas Test 1 CSAT with Solutions PDF\n",
      "April 27, 2024\n",
      "Vision IAS Prelims 2024 Abhyaas Test 1 CSAT Hindi Medium PDF\n",
      "April 27, 2024\n",
      "Vision IAS Prelims 2024 Abhyaas Test 1 with Solutions PDF\n",
      "April 27, 2024\n",
      "Vision IAS Prelims 2024 Abhyaas Test 1 Hindi Medium PDF\n",
      "April 27, 2024\n",
      "Vision IAS Prelims 2024 Test 35 with Solutions PDF [FLT-10] [All Complete]\n",
      "April 25, 2024\n",
      "Vision IAS Prelims 2024 Test 34 with Solutions PDF [Yearbook]\n",
      "April 24, 2024\n",
      "UPSC Civil Services 2023 Final Results Out, Download Topper List\n",
      "April 16, 2024\n",
      "Vision IAS Prelims 2024 Test 33 with Solutions PDF [FLT-9]\n",
      "April 15, 2024\n",
      "Vision IAS Prelims 2024 Abhyaas Test 1 CSAT with Solutions PDF\n",
      "April 27, 2024\n",
      "Vision IAS Prelims 2024 Abhyaas Test 1 CSAT Hindi Medium PDF\n",
      "April 27, 2024\n",
      "Vision IAS Prelims 2024 Abhyaas Test 1 with Solutions PDF\n",
      "April 27, 2024\n",
      "Vision IAS Prelims 2024 Abhyaas Test 1 Hindi Medium PDF\n",
      "April 27, 2024\n",
      "Vision IAS Prelims 2024 Test 35 with Solutions PDF [FLT-10] [All Complete]\n",
      "April 25, 2024\n",
      "Vision IAS Prelims 2024 Test 34 with Solutions PDF [Yearbook]\n",
      "April 24, 2024\n",
      "UPSC Civil Services 2023 Final Results Out, Download Topper List\n",
      "April 16, 2024\n",
      "Vision IAS Prelims 2024 Test 33 with Solutions PDF [FLT-9]\n",
      "April 15, 2024\n",
      "26 Years Disha Solved Papers 11th Edition PDF\n",
      "A Brief History of Modern India Spectrum 2023 PDF\n",
      "Shankar IAS Environment 8th Edition PDF\n",
      "Oxford School ATLAS PDF\n",
      "GC Leong Certificate Physical and Human Geography\n",
      "Lexicon Ethics PDF\n",
      "Mastering Modern World History by Norman Lowe PDF\n",
      "A New Look at Modern Indian History by B.L Grover PDF\n",
      "Political Theory by OP Gauba PDF\n",
      "Plassey to Partition by Sekhar Bandyopadhyay PDF\n",
      "India After Gandhi by Ramachandra Guha PDF\n",
      "Indian Society by SC Dubey PDF\n",
      "Handbook of India’s International Relations by David Scott PDF\n",
      "Ancient Indian History by RS Sharma PDF [Old NCERT]\n",
      "Medieval Indian History by Satish Chandra PDF [Old NCERT]\n",
      "History of Modern India by Bipan Chandra PDF [Old NCERT]\n"
     ]
    }
   ],
   "source": [
    "for item in Coaching_list:\n",
    "    print(item.text)"
   ]
  },
  {
   "cell_type": "code",
   "execution_count": 94,
   "id": "251f3680-8ab8-4f7c-a3cd-ae0c7932e430",
   "metadata": {},
   "outputs": [
    {
     "name": "stdout",
     "output_type": "stream",
     "text": [
      "https://i0.wp.com/freeupscmaterials.org/wp-content/uploads/2022/09/Free-UPSC-Full-Logo-New.png?fit=300%2C80&ssl=1\n",
      "https://freeupscmaterials.org/wp-content/uploads/cwv-webp-images/2024/05/Current-Shots-365-ad-may-24-cr1.png.webp\n",
      "https://iashome.files.wordpress.com/2022/08/static-shots-pqrn-ad1-300.png\n",
      "https://freeupscmaterials.org/wp-content/uploads/cwv-webp-images/2023/07/Copy-Notes-Banner-August-2023.png.webp\n",
      "https://pixel.wp.com/g.gif?v=ext&blog=135296872&post=604&tz=5.5&srv=freeupscmaterials.org&j=1%3A13.3.1&host=freeupscmaterials.org&ref=https%3A%2F%2Ffreeupscmaterials.org%2Fvision-ias-complete-study-materials%2F&fcp=706&rand=0.5439501417425563\n"
     ]
    }
   ],
   "source": [
    "Coaching_list  = driver.find_elements(By.TAG_NAME,\"img\") #if we want to search by name attribute, we use By.TAG_NAME\n",
    "for item in Coaching_list:\n",
    "    print(item.get_attribute('src'))"
   ]
  },
  {
   "cell_type": "code",
   "execution_count": 99,
   "id": "fb313e26-fdf8-497b-89f4-1499572dd1d7",
   "metadata": {},
   "outputs": [
    {
     "name": "stdout",
     "output_type": "stream",
     "text": [
      "Coaching Materials\n",
      "Vision IAS GS1 Complete Materials PDF\n"
     ]
    }
   ],
   "source": [
    "Coaching_list  = driver.find_elements(By.TAG_NAME,\"li\") #if we want to search by name attribute, we use By.TAG_NAME\n",
    "for item in Coaching_list:\n",
    "    if 'Materials' in item.text:\n",
    "        print(item.text)"
   ]
  },
  {
   "cell_type": "code",
   "execution_count": 96,
   "id": "247dd658-6d48-4245-ad8f-2282477f087a",
   "metadata": {},
   "outputs": [
    {
     "data": {
      "text/plain": [
       "'https://freeupscmaterials.org/standard-books/'"
      ]
     },
     "execution_count": 96,
     "metadata": {},
     "output_type": "execute_result"
    }
   ],
   "source": [
    "driver.current_url"
   ]
  },
  {
   "cell_type": "code",
   "execution_count": 97,
   "id": "cae2ce87-b157-4e0d-b983-e81e3df0af3d",
   "metadata": {},
   "outputs": [],
   "source": [
    "# #methods that can be applied on \n",
    "# click()\n",
    "# clear()\n",
    "# get_attribute(name)\n",
    "# get_property(name) - text_length or state of checkbox while attribute is like HREF or SRC\n",
    "# is_displayed()\n",
    "# is_enabled()  : returns True/False : radio/checkbox\n",
    "# is_selected()\n",
    "# screenshot(filename)\n",
    "# submit()\n",
    "# value_of_css_property(property_name)\n",
    "# location\n",
    "# parent\n",
    "# size\n",
    "# tag_name\n",
    "# text\n",
    "# send_keys(*value) "
   ]
  },
  {
   "cell_type": "code",
   "execution_count": 108,
   "id": "992d0bca-26c7-43fa-91d3-de662419b4fe",
   "metadata": {},
   "outputs": [
    {
     "data": {
      "text/plain": [
       "'Current Affairs - Free Upsc Materials'"
      ]
     },
     "execution_count": 108,
     "metadata": {},
     "output_type": "execute_result"
    }
   ],
   "source": [
    "Current_Affairs = driver.find_element(By.PARTIAL_LINK_TEXT,'Current')\n",
    "driver.get(Current_Affairs.get_attribute('href'))\n",
    "driver.title"
   ]
  },
  {
   "cell_type": "code",
   "execution_count": 112,
   "id": "f3e24c66-5178-4a1c-8900-a91c88fe9b24",
   "metadata": {},
   "outputs": [
    {
     "name": "stdout",
     "output_type": "stream",
     "text": [
      "Receive the latest articles in your inbox\n",
      "Vision Complete Study Materials PDF\n",
      "Download All Standard E-Books for IAS Preparation\n",
      "UPSC IAS Prelims Book List and Links All at one Place\n",
      "Download All UPSC CSE Prelims Test Series at one Place\n",
      "Vision IAS GS1 Complete Materials PDF\n",
      "Vision IAS GS2 Complete Materials PDF\n",
      "Vision IAS GS3 Complete Materials PDF\n",
      "Vision IAS GS4 Complete Materials PDF\n",
      "26 Years Disha Solved Papers 11th Edition PDF\n",
      "A Brief History of Modern India Spectrum 2023 PDF\n",
      "Shankar IAS Environment 8th Edition PDF\n",
      "Oxford School ATLAS PDF\n",
      "GC Leong Certificate Physical and Human Geography\n",
      "Lexicon Ethics PDF\n",
      "Mastering Modern World History by Norman Lowe PDF\n",
      "A New Look at Modern Indian History by B.L Grover PDF\n",
      "Political Theory by OP Gauba PDF\n",
      "Plassey to Partition by Sekhar Bandyopadhyay PDF\n",
      "India After Gandhi by Ramachandra Guha PDF\n",
      "Indian Society by SC Dubey PDF\n",
      "Handbook of India’s International Relations by David Scott PDF\n",
      "Ancient Indian History by RS Sharma PDF [Old NCERT]\n",
      "Medieval Indian History by Satish Chandra PDF [Old NCERT]\n",
      "History of Modern India by Bipan Chandra PDF [Old NCERT]\n"
     ]
    }
   ],
   "source": [
    "TRENDING = driver.find_elements(By.CLASS_NAME,'gb-headline-text')\n",
    "for item in TRENDING:\n",
    "    print(item.text)"
   ]
  },
  {
   "cell_type": "code",
   "execution_count": null,
   "id": "4f933a31-8291-4056-8cab-f3b932faed98",
   "metadata": {},
   "outputs": [],
   "source": []
  },
  {
   "cell_type": "code",
   "execution_count": null,
   "id": "43b81f6d-96fd-4fa7-be7a-b95e5ff1dee6",
   "metadata": {},
   "outputs": [],
   "source": []
  },
  {
   "cell_type": "code",
   "execution_count": null,
   "id": "c35cf292-c5f1-4fc8-baec-d56937d8b3b2",
   "metadata": {},
   "outputs": [],
   "source": []
  },
  {
   "cell_type": "code",
   "execution_count": null,
   "id": "90f05661-5317-484a-9b37-66bffe687be9",
   "metadata": {},
   "outputs": [],
   "source": []
  }
 ],
 "metadata": {
  "kernelspec": {
   "display_name": "Python 3 (ipykernel)",
   "language": "python",
   "name": "python3"
  },
  "language_info": {
   "codemirror_mode": {
    "name": "ipython",
    "version": 3
   },
   "file_extension": ".py",
   "mimetype": "text/x-python",
   "name": "python",
   "nbconvert_exporter": "python",
   "pygments_lexer": "ipython3",
   "version": "3.8.16"
  }
 },
 "nbformat": 4,
 "nbformat_minor": 5
}
