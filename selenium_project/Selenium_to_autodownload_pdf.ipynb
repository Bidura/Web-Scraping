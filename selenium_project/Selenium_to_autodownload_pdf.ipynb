{
 "cells": [
  {
   "cell_type": "markdown",
   "id": "6c91fbc4-0c63-4c82-8b86-40475d41859e",
   "metadata": {},
   "source": [
    "# Install Anaconda Navigator\n",
    "# Go to Anaconda Prompt\n",
    "# Create a virtual environment\n",
    "# use command => conda create --name envname python=3.8\n",
    "# activate env using => conda activate envname \n",
    "# then install required libraries with following commands\n",
    "# python -m pip install selenium\n",
    "# python -m pip install webdriver-manager\n",
    "# python -m pip install jupyter notebook\n",
    "# Launch jupyter notebook by following command\n",
    "# python -m jupyter notebook\n",
    "# write the code given below.\n",
    "# required libraries are in requirements.txt\n",
    "# you can write command => python -m pip install requirements"
   ]
  },
  {
   "cell_type": "code",
   "execution_count": 139,
   "id": "547e68d6-d71f-4bb8-bcde-fa15de5b751e",
   "metadata": {},
   "outputs": [],
   "source": [
    "from selenium import webdriver\n",
    "from selenium.webdriver.chrome.service import Service as ChromeService\n",
    "from webdriver_manager.chrome import ChromeDriverManager\n",
    "\n",
    "driver = webdriver.Chrome(service=ChromeService(ChromeDriverManager().install())) \n",
    "driver.get('https://freeupscmaterials.org/')"
   ]
  },
  {
   "cell_type": "code",
   "execution_count": 140,
   "id": "6d2b65b0-2169-4671-a857-9286347f6ecf",
   "metadata": {},
   "outputs": [],
   "source": [
    "from selenium.webdriver.common.by import By\n",
    "import time"
   ]
  },
  {
   "cell_type": "code",
   "execution_count": 141,
   "id": "1f7039e5-e5ca-47f6-9aca-5d3bc96d9bb1",
   "metadata": {},
   "outputs": [],
   "source": [
    "ebook = driver.find_element(By.PARTIAL_LINK_TEXT,'E-Book')\n",
    "driver.get(ebook.get_attribute('href'))"
   ]
  },
  {
   "cell_type": "code",
   "execution_count": 142,
   "id": "b2710bd1-f389-4ac2-b698-48d8942b8d32",
   "metadata": {},
   "outputs": [],
   "source": [
    "ebook_list  = driver.find_elements(By.TAG_NAME,'a')\n",
    "Refer_list1 = []\n",
    "for item in ebook_list:\n",
    "    if 'PDF' in item.text:\n",
    "        Refer_list1.append(item.get_attribute('href'))"
   ]
  },
  {
   "cell_type": "code",
   "execution_count": null,
   "id": "a0bc4f7b-e285-4c8b-af63-b3a6e8aa9782",
   "metadata": {},
   "outputs": [],
   "source": [
    "for item in Refer_list1:\n",
    "    driver.get(item)\n",
    "    try:\n",
    "        download_button = driver.find_element(By.PARTIAL_LINK_TEXT,'Download')\n",
    "        driver.get(download_button.get_attribute('href'))\n",
    "        download_button = driver.find_element(By.ID,'downloadButton')\n",
    "        download_button.click()\n",
    "        time.sleep(25)\n",
    "    except:\n",
    "        pass\n",
    "driver.quit()\n",
    "#here not all items had the download button option hence error was being thrown hence we used exception handling.\n",
    "#check in your downloads folder to find the newly downloaded files."
   ]
  }
 ],
 "metadata": {
  "kernelspec": {
   "display_name": "Python 3 (ipykernel)",
   "language": "python",
   "name": "python3"
  },
  "language_info": {
   "codemirror_mode": {
    "name": "ipython",
    "version": 3
   },
   "file_extension": ".py",
   "mimetype": "text/x-python",
   "name": "python",
   "nbconvert_exporter": "python",
   "pygments_lexer": "ipython3",
   "version": "3.8.16"
  }
 },
 "nbformat": 4,
 "nbformat_minor": 5
}
